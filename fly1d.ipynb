{
 "cells": [
  {
   "cell_type": "code",
   "execution_count": null,
   "metadata": {},
   "outputs": [],
   "source": [
    "import matplotlib.pyplot as plt\n",
    "import numpy as np\n",
    "import pandas as pd\n"
   ]
  },
  {
   "cell_type": "code",
   "execution_count": null,
   "metadata": {},
   "outputs": [],
   "source": [
    "from collections import defaultdict\n"
   ]
  },
  {
   "cell_type": "code",
   "execution_count": null,
   "metadata": {},
   "outputs": [],
   "source": [
    "# refractory period 8s, 16 steps."
   ]
  },
  {
   "cell_type": "code",
   "execution_count": null,
   "metadata": {},
   "outputs": [],
   "source": [
    "CHANNEL_HL = 26 # BL"
   ]
  },
  {
   "cell_type": "code",
   "execution_count": null,
   "metadata": {},
   "outputs": [],
   "source": [
    "class ChannelEnvironment:\n",
    "    def __init__(self, food_coords=[0], enable_food_time=5, disable_food_time=100, refractory_period = 16):\n",
    "        self.refractory_period = refractory_period\n",
    "        \n",
    "        self.food_w = np.pi/CHANNEL_HL/2. # half-width of the food., 2xfood_w = BL, same as step size.\n",
    "        self.food = np.array(food_coords)\n",
    "        self.food_enabled = np.array([False]*len(food_coords)) # all food locations disabled\n",
    "        \n",
    "        self.schedule = defaultdict(dict)\n",
    "        #self.schedule = {5: dict(0=True), 20: dict(0=False)} # default schedule\n",
    "        self.schedule[enable_food_time]={0:True}\n",
    "        self.schedule[disable_food_time]={0:False}\n",
    "        \n",
    "        self.fly_on_food = None\n",
    "        self.last_t = 0\n",
    "        \n",
    "        self.food_log = {\"t\":[], 0:[]}\n",
    "        \n",
    "    def env_state_update(self, t): # when the food is active\n",
    "        self.last_t = t\n",
    "        if t in self.schedule.keys():\n",
    "            actions = self.schedule[t]\n",
    "            for foodid, state in actions.items():\n",
    "                self.set_enabled_food(foodid, state)\n",
    "            del self.schedule[t]\n",
    "            \n",
    "        for ifood in range(len(self.food)):\n",
    "            self.food_log[\"t\"].append(self.last_t)\n",
    "            self.food_log[ifood].append(self.food_enabled[ifood])\n",
    "            \n",
    "    def update(self, fly_coord, t):\n",
    "        self.env_state_update(t)\n",
    "        food_locs, food_indices = self.get_enabled_food_locations()\n",
    "        for food_index,food_loc in zip(food_indices, food_locs):\n",
    "             print(\"update:\", t, food_loc, fly_coord, \n",
    "                   \"fly-food:\",np.abs(fly_coord - food_loc), \n",
    "                   \"mod2pi:\", np.abs(fly_coord - food_loc)%(2* np.pi))\n",
    "             if np.abs(fly_coord - food_loc)%(2* np.pi) <= self.food_w:\n",
    "                self.fly_on_food=food_index\n",
    "                return self.fly_on_food\n",
    "        self.fly_on_food=None\n",
    "        return self.fly_on_food\n",
    "        \n",
    "    def get_enabled_food_locations(self):\n",
    "        return self.food[self.food_enabled], self.food_enabled.nonzero()[0] #locations, indices\n",
    "    \n",
    "    def set_enabled_food(self, food_i, enabled_value):\n",
    "        self.food_enabled[food_i] = enabled_value\n",
    "        print(f\"t={self.last_t}: Food #{food_i} [{self.food[food_i]}] := {enabled_value}\")\n",
    "        \n",
    "    def enable_food(self, food_i=0):\n",
    "        self.set_enabled_food(food_i, True)\n",
    "        \n",
    "    def disable_food(self, food_i=0, refractory=False):\n",
    "        self.set_enabled_food(food_i, False)\n",
    "        if refractory:\n",
    "            for tbetween in range(self.last_t, self.last_t+self.refractory_period+1):\n",
    "                if tbetween in self.schedule and not self.schedule[tbetween].get(food_i,True):\n",
    "                    return                \n",
    "            self.schedule[self.last_t+self.refractory_period][food_i]= True\n",
    "    \n",
    "    def print_current_state(self):\n",
    "        print(np.vstack([self.food, self.food_enabled]))\n",
    "    \n",
    "    "
   ]
  },
  {
   "cell_type": "code",
   "execution_count": null,
   "metadata": {},
   "outputs": [],
   "source": [
    "foods = np.array([1,2,3])\n",
    "enabled = np.array([True,False, True])\n",
    "foods[enabled]"
   ]
  },
  {
   "cell_type": "code",
   "execution_count": null,
   "metadata": {},
   "outputs": [],
   "source": [
    "print(np.vstack([foods, enabled]))"
   ]
  },
  {
   "cell_type": "code",
   "execution_count": null,
   "metadata": {},
   "outputs": [],
   "source": [
    "indices = enabled.nonzero()[0]"
   ]
  },
  {
   "cell_type": "code",
   "execution_count": null,
   "metadata": {},
   "outputs": [],
   "source": [
    "phi_step = np.pi / CHANNEL_HL # 26 body length opposite side - figS3A\n",
    "# 1 step 0.5 s, 1 BL\n",
    "\n",
    "class MyFly:\n",
    "    def __init__(self):\n",
    "        self.eating_time = 10\n",
    "        \n",
    "        self.environment = ChannelEnvironment()\n",
    "        self.t = 0\n",
    "        \n",
    "        # mind\n",
    "        self.state='walking' # or eating\n",
    "        self.mode='GS' # or LS\n",
    "        self.direction=1 # or -1\n",
    "        self.last_state=None\n",
    "        self.integrator_x=0\n",
    "        self.integrator_y=0\n",
    "        \n",
    "        self.current_run = 0\n",
    "        \n",
    "        # env\n",
    "        self.coord_x=0\n",
    "        self.coord_y=0\n",
    "        self.coord_phi= - 8* phi_step\n",
    "        \n",
    "        # log\n",
    "        self.phi_log=[self.coord_phi] # to save history\n",
    "        self.t_log=[0]\n",
    "        self.eat_log=[False]\n",
    "        self.direction_log=[self.direction]\n",
    "        \n",
    "    def log(self, eating=False):\n",
    "        self.t_log.append(self.t)\n",
    "        self.phi_log.append(self.coord_phi)\n",
    "        self.eat_log.append(eating)\n",
    "        self.direction_log.append(self.direction)\n",
    "\n",
    "    def make_step(self, direction):\n",
    "        self.t+=1\n",
    "        d_angle = phi_step*direction\n",
    "        self.coord_phi += d_angle\n",
    "        self.coord_x = np.cos(self.coord_phi)\n",
    "        self.coord_y = np.sin(self.coord_phi)\n",
    "        dx = np.cos(d_angle)\n",
    "        dy = np.sin(d_angle)\n",
    "        self.integrator_x+=dx\n",
    "        self.integrator_y+=dy\n",
    "        self.current_run += np.sqrt(dx**2+dy**2)\n",
    "        \n",
    "        self.log()\n",
    "        \n",
    "        am_on_food = self.environment.update(self.coord_phi, self.t)\n",
    "        if am_on_food is not None:\n",
    "            self.on_food(am_on_food)\n",
    "    \n",
    "    def plot_angle_history(self, ax=None):\n",
    "        if ax is None:\n",
    "            ax=plt.gca()\n",
    "        ax.plot(self.t_log, self.phi_log, '.-')\n",
    "\n",
    "    def plot_trajectory(self, ax=None):\n",
    "        if ax is None:\n",
    "            ax=plt.gca()\n",
    "        \n",
    "        angles = np.array(self.phi_log)\n",
    "        xx = np.cos(angles)\n",
    "        yy = np.sin(angles)\n",
    "        ax.plot(xx, yy)\n",
    "        ax.axis('equal')\n",
    "    \n",
    "    def on_food(self, food_index):\n",
    "        print(self.t, \" - fly on food!\")\n",
    "        self.mode = 'LS' # enter the local search mode\n",
    "\n",
    "        # remember the eating state\n",
    "        self.last_state = 'eating'\n",
    "\n",
    "        # disable food source for refractory period\n",
    "        self.environment.disable_food(food_index, refractory=True)\n",
    "        \n",
    "        # stay on food location for a while\n",
    "        self.eat()\n",
    "        \n",
    "        self.zero_integrator()\n",
    "        self.choose_run_length()\n",
    "        \n",
    "        \n",
    "    def eat(self):\n",
    "        # do nothing for self.eating time (only update the environment based on current time)\n",
    "        for t in range(self.eating_time):\n",
    "            self.t+=1\n",
    "            # update log at every step\n",
    "            self.log(eating=True)\n",
    "#             self.t_log.append(self.t)\n",
    "#             self.phi_log.append(self.coord_phi)\n",
    "            # update environment\n",
    "            print('fly eating', self.t)\n",
    "            self.environment.update(self.coord_phi, self.t)\n",
    "\n",
    "    def choose_run_length(self):\n",
    "        # if just was on food\n",
    "        if self.last_state=='eating':\n",
    "            self.run_length = np.random.normal(RL_mean, RL_std) + self.current_run\n",
    "        elif self.last_state == 'reversal':\n",
    "            self.run_length = np.abs(self.current_run + np.random.normal(dRL_mean, dRL_std))\n",
    "        print(f\"Prev: {self.last_state}, current run: {self.current_run}, RL:{self.run_length}\" )\n",
    "            \n",
    "    def zero_integrator(self):\n",
    "        self.integrator_x = 0\n",
    "        self.integrator_y = 0\n",
    "        self.current_run = 0\n",
    "        \n",
    "    def start_walking(self, Tlim = 500):\n",
    "        while self.mode == \"GS\":\n",
    "            self.make_step(self.direction)\n",
    "        if self.mode == 'LS':\n",
    "            while self.t < Tlim:\n",
    "                print(f\"{self.t} | run: {self.current_run}\")\n",
    "                self.make_step(self.direction)\n",
    "                if self.current_run >=self.run_length:\n",
    "                    self.reversal()\n",
    "    def reversal(self):\n",
    "        self.direction *= -1        \n",
    "        self.choose_run_length()\n",
    "        self.zero_integrator()\n",
    "        self.last_state = 'reversal'\n",
    "        \n",
    "    def get_df(self):\n",
    "        df = pd.DataFrame(dict(t=fly.t_log, angle=fly.phi_log, \n",
    "                                 eating=fly.eat_log, direction=fly.direction_log))\n",
    "        run_num = df.direction.diff().abs()/2\n",
    "        df[\"run_num\"] = run_num.cumsum()\n",
    "        df.loc[0, \"run_num\"] = 0\n",
    "        df.run_num = df.run_num - df[df.eating].iloc[-1].run_num - 1\n",
    "        return df\n",
    "    "
   ]
  },
  {
   "cell_type": "code",
   "execution_count": null,
   "metadata": {},
   "outputs": [],
   "source": [
    "RL_mean = 4.125\n",
    "RL_std = 2.625\n",
    "dRL_mean = 0.03125\n",
    "dRL_std = 1.875\n",
    "np.random.normal(RL_mean, RL_std)"
   ]
  },
  {
   "cell_type": "code",
   "execution_count": null,
   "metadata": {},
   "outputs": [],
   "source": []
  },
  {
   "cell_type": "code",
   "execution_count": null,
   "metadata": {},
   "outputs": [],
   "source": [
    "f = MyFly()"
   ]
  },
  {
   "cell_type": "code",
   "execution_count": null,
   "metadata": {
    "scrolled": true
   },
   "outputs": [],
   "source": [
    "for i in range(3):\n",
    "    f.make_step(1)\n",
    "for i in range(30):\n",
    "    f.make_step(-1)"
   ]
  },
  {
   "cell_type": "code",
   "execution_count": null,
   "metadata": {},
   "outputs": [],
   "source": [
    "fig, ax = plt.subplots() \n",
    "f.plot_angle_history(ax)\n",
    "plt.plot(f.environment.food_log[\"t\"], f.environment.food_log[0])"
   ]
  },
  {
   "cell_type": "code",
   "execution_count": null,
   "metadata": {},
   "outputs": [],
   "source": [
    "f.plot_trajectory()"
   ]
  },
  {
   "cell_type": "code",
   "execution_count": null,
   "metadata": {},
   "outputs": [],
   "source": [
    "fly = MyFly()"
   ]
  },
  {
   "cell_type": "code",
   "execution_count": null,
   "metadata": {},
   "outputs": [],
   "source": [
    "fly.start_walking(Tlim=200)"
   ]
  },
  {
   "cell_type": "code",
   "execution_count": null,
   "metadata": {},
   "outputs": [],
   "source": [
    "fly.plot_angle_history()\n",
    "plt.plot(fly.environment.food_log[\"t\"], fly.environment.food_log[0])"
   ]
  },
  {
   "cell_type": "code",
   "execution_count": null,
   "metadata": {},
   "outputs": [],
   "source": [
    "df = fly.get_df()"
   ]
  },
  {
   "cell_type": "code",
   "execution_count": null,
   "metadata": {},
   "outputs": [],
   "source": [
    "run_num = df.direction.diff().abs()/2"
   ]
  },
  {
   "cell_type": "code",
   "execution_count": null,
   "metadata": {},
   "outputs": [],
   "source": [
    "df[\"run_num\"] = run_num.cumsum()"
   ]
  },
  {
   "cell_type": "code",
   "execution_count": null,
   "metadata": {},
   "outputs": [],
   "source": [
    "df.loc[0, \"run_num\"] = 0"
   ]
  },
  {
   "cell_type": "code",
   "execution_count": null,
   "metadata": {},
   "outputs": [],
   "source": [
    "df[df.eating].iloc[-1]"
   ]
  },
  {
   "cell_type": "code",
   "execution_count": null,
   "metadata": {},
   "outputs": [],
   "source": [
    "#df.loc[0, \"run_num\"] = 0\n",
    "df.run_num = df.run_num - df[df.eating].iloc[-1].run_num - 1"
   ]
  },
  {
   "cell_type": "code",
   "execution_count": null,
   "metadata": {},
   "outputs": [],
   "source": [
    "for rn in [-1,0,1]:\n",
    "    print(df[df.run_num ==rn].eating.unique())"
   ]
  },
  {
   "cell_type": "code",
   "execution_count": null,
   "metadata": {},
   "outputs": [],
   "source": [
    "df.run_num.unique()"
   ]
  },
  {
   "cell_type": "code",
   "execution_count": null,
   "metadata": {},
   "outputs": [],
   "source": [
    "run_info = df.groupby(\"run_num\").aggregate({'angle':['first', 'last']})"
   ]
  },
  {
   "cell_type": "code",
   "execution_count": null,
   "metadata": {},
   "outputs": [],
   "source": [
    "run_info.columns = [\"_\".join(x) for x in run_info.columns.ravel()]\n"
   ]
  },
  {
   "cell_type": "code",
   "execution_count": null,
   "metadata": {},
   "outputs": [],
   "source": [
    "run_info"
   ]
  },
  {
   "cell_type": "code",
   "execution_count": null,
   "metadata": {},
   "outputs": [],
   "source": [
    "run_info[\"run_midpoint\"] = (run_info.angle_last + run_info.angle_first)/2"
   ]
  },
  {
   "cell_type": "code",
   "execution_count": null,
   "metadata": {},
   "outputs": [],
   "source": [
    "run_info.run_midpoint"
   ]
  },
  {
   "cell_type": "code",
   "execution_count": null,
   "metadata": {},
   "outputs": [],
   "source": [
    "df = pd.read_csv(\"fr_simulations.csv\")"
   ]
  },
  {
   "cell_type": "code",
   "execution_count": null,
   "metadata": {},
   "outputs": [],
   "source": [
    "df.head()"
   ]
  },
  {
   "cell_type": "code",
   "execution_count": null,
   "metadata": {},
   "outputs": [],
   "source": [
    "run_info = df.groupby([\"flyid\",\"run_num\"]).aggregate({'angle':['first', 'last']}).reset_index()\n",
    "run_info.columns = [\"_\".join(x) for x in run_info.columns.ravel()]\n"
   ]
  },
  {
   "cell_type": "code",
   "execution_count": null,
   "metadata": {},
   "outputs": [],
   "source": [
    "run_info['run_midpoint']=(run_info.angle_last + run_info.angle_first)/2"
   ]
  },
  {
   "cell_type": "code",
   "execution_count": null,
   "metadata": {},
   "outputs": [],
   "source": [
    "run"
   ]
  },
  {
   "cell_type": "code",
   "execution_count": null,
   "metadata": {},
   "outputs": [],
   "source": [
    "h=plt.hist(run_info[run_info[\"run_num_\"]<0].run_midpoint,density=True, bins=50)"
   ]
  },
  {
   "cell_type": "code",
   "execution_count": null,
   "metadata": {},
   "outputs": [],
   "source": [
    "abins = np.linspace(-np.pi, np.pi,100)"
   ]
  },
  {
   "cell_type": "code",
   "execution_count": null,
   "metadata": {},
   "outputs": [],
   "source": []
  },
  {
   "cell_type": "code",
   "execution_count": null,
   "metadata": {},
   "outputs": [],
   "source": [
    "h=plt.hist(run_info[run_info[\"run_num_\"]<0].run_midpoint,density=True, bins=abins)\n",
    "h=plt.hist(run_info[run_info[\"run_num_\"]>=0].run_midpoint,density=True, bins=abins)"
   ]
  },
  {
   "cell_type": "code",
   "execution_count": null,
   "metadata": {},
   "outputs": [],
   "source": []
  }
 ],
 "metadata": {
  "kernelspec": {
   "display_name": "Python3 (flyvenv)",
   "language": "python",
   "name": "flyvenv"
  },
  "language_info": {
   "codemirror_mode": {
    "name": "ipython",
    "version": 3
   },
   "file_extension": ".py",
   "mimetype": "text/x-python",
   "name": "python",
   "nbconvert_exporter": "python",
   "pygments_lexer": "ipython3",
   "version": "3.7.3"
  }
 },
 "nbformat": 4,
 "nbformat_minor": 2
}
