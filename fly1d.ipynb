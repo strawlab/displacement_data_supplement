{
 "cells": [
  {
   "cell_type": "code",
   "execution_count": 1,
   "metadata": {},
   "outputs": [],
   "source": [
    "import matplotlib.pyplot as plt\n",
    "import numpy as np\n",
    "import pandas as pd\n"
   ]
  },
  {
   "cell_type": "code",
   "execution_count": 2,
   "metadata": {},
   "outputs": [],
   "source": [
    "from collections import defaultdict\n"
   ]
  },
  {
   "cell_type": "code",
   "execution_count": 191,
   "metadata": {},
   "outputs": [],
   "source": [
    "%config Completer.use_jedi = False"
   ]
  },
  {
   "cell_type": "code",
   "execution_count": 3,
   "metadata": {},
   "outputs": [],
   "source": [
    "# refractory period 8s, 16 steps."
   ]
  },
  {
   "cell_type": "code",
   "execution_count": 4,
   "metadata": {},
   "outputs": [],
   "source": [
    "CHANNEL_HL = 26 # BL"
   ]
  },
  {
   "cell_type": "code",
   "execution_count": 5,
   "metadata": {},
   "outputs": [],
   "source": [
    "class ChannelEnvironment:\n",
    "    def __init__(self, food_coords=[0], enable_food_time=5, disable_food_time=100, refractory_period = 16):\n",
    "        self.refractory_period = refractory_period\n",
    "        \n",
    "        self.food_w = np.pi/CHANNEL_HL/2. # half-width of the food., 2xfood_w = BL, same as step size.\n",
    "        self.food = np.array(food_coords)\n",
    "        self.food_enabled = np.array([False]*len(food_coords)) # all food locations disabled\n",
    "        \n",
    "        self.schedule = defaultdict(dict)\n",
    "        #self.schedule = {5: dict(0=True), 20: dict(0=False)} # default schedule\n",
    "        self.schedule[enable_food_time]={0:True}\n",
    "        self.schedule[disable_food_time]={0:False}\n",
    "        \n",
    "        self.fly_on_food = None\n",
    "        self.last_t = 0\n",
    "        \n",
    "        self.food_log = {\"t\":[], 0:[]}\n",
    "        \n",
    "    def env_state_update(self, t): # when the food is active\n",
    "        self.last_t = t\n",
    "        if t in self.schedule.keys():\n",
    "            actions = self.schedule[t]\n",
    "            for foodid, state in actions.items():\n",
    "                self.set_enabled_food(foodid, state)\n",
    "            del self.schedule[t]\n",
    "            \n",
    "        for ifood in range(len(self.food)):\n",
    "            self.food_log[\"t\"].append(self.last_t)\n",
    "            self.food_log[ifood].append(self.food_enabled[ifood])\n",
    "            \n",
    "    def update(self, fly_coord, t):\n",
    "        self.env_state_update(t)\n",
    "        food_locs, food_indices = self.get_enabled_food_locations()\n",
    "        for food_index,food_loc in zip(food_indices, food_locs):\n",
    "             print(\"update:\", t, food_loc, fly_coord, \n",
    "                   \"fly-food:\",np.abs(fly_coord - food_loc), \n",
    "                   \"mod2pi:\", np.abs(fly_coord - food_loc)%(2* np.pi))\n",
    "             if np.abs(fly_coord - food_loc)%(2* np.pi) <= self.food_w:\n",
    "                self.fly_on_food=food_index\n",
    "                return self.fly_on_food\n",
    "        self.fly_on_food=None\n",
    "        return self.fly_on_food\n",
    "        \n",
    "    def get_enabled_food_locations(self):\n",
    "        return self.food[self.food_enabled], self.food_enabled.nonzero()[0] #locations, indices\n",
    "    \n",
    "    def set_enabled_food(self, food_i, enabled_value):\n",
    "        self.food_enabled[food_i] = enabled_value\n",
    "        print(f\"t={self.last_t}: Food #{food_i} [{self.food[food_i]}] := {enabled_value}\")\n",
    "        \n",
    "    def enable_food(self, food_i=0):\n",
    "        self.set_enabled_food(food_i, True)\n",
    "        \n",
    "    def disable_food(self, food_i=0, refractory=False):\n",
    "        self.set_enabled_food(food_i, False)\n",
    "        if refractory:\n",
    "            for tbetween in range(self.last_t, self.last_t+self.refractory_period+1):\n",
    "                if tbetween in self.schedule and not self.schedule[tbetween].get(food_i,True):\n",
    "                    return                \n",
    "            self.schedule[self.last_t+self.refractory_period][food_i]= True\n",
    "    \n",
    "    def print_current_state(self):\n",
    "        print(np.vstack([self.food, self.food_enabled]))\n",
    "    \n",
    "    "
   ]
  },
  {
   "cell_type": "code",
   "execution_count": 6,
   "metadata": {},
   "outputs": [
    {
     "data": {
      "text/plain": [
       "array([1, 3])"
      ]
     },
     "execution_count": 6,
     "metadata": {},
     "output_type": "execute_result"
    }
   ],
   "source": [
    "foods = np.array([1,2,3])\n",
    "enabled = np.array([True,False, True])\n",
    "foods[enabled]"
   ]
  },
  {
   "cell_type": "code",
   "execution_count": 7,
   "metadata": {},
   "outputs": [
    {
     "name": "stdout",
     "output_type": "stream",
     "text": [
      "[[1 2 3]\n",
      " [1 0 1]]\n"
     ]
    }
   ],
   "source": [
    "print(np.vstack([foods, enabled]))"
   ]
  },
  {
   "cell_type": "code",
   "execution_count": 8,
   "metadata": {},
   "outputs": [],
   "source": [
    "indices = enabled.nonzero()[0]"
   ]
  },
  {
   "cell_type": "code",
   "execution_count": 9,
   "metadata": {},
   "outputs": [],
   "source": [
    "phi_step = np.pi / CHANNEL_HL # 26 body length opposite side - figS3A\n",
    "# 1 step 0.5 s, 1 BL\n",
    "\n",
    "class MyFly:\n",
    "    def __init__(self):\n",
    "        self.eating_time = 10\n",
    "        \n",
    "        self.environment = ChannelEnvironment()\n",
    "        self.t = 0\n",
    "        \n",
    "        # mind\n",
    "        self.state='walking' # or eating\n",
    "        self.mode='GS' # or LS\n",
    "        self.direction=1 # or -1\n",
    "        self.last_state=None\n",
    "        self.integrator_x=0\n",
    "        self.integrator_y=0\n",
    "        \n",
    "        self.current_run = 0\n",
    "        \n",
    "        # env\n",
    "        self.coord_x=0\n",
    "        self.coord_y=0\n",
    "        self.coord_phi= - 8* phi_step\n",
    "        \n",
    "        # log\n",
    "        self.phi_log=[self.coord_phi] # to save history\n",
    "        self.t_log=[0]\n",
    "        self.eat_log=[False]\n",
    "        self.direction_log=[self.direction]\n",
    "        \n",
    "    def log(self, eating=False):\n",
    "        self.t_log.append(self.t)\n",
    "        self.phi_log.append(self.coord_phi)\n",
    "        self.eat_log.append(eating)\n",
    "        self.direction_log.append(self.direction)\n",
    "\n",
    "    def make_step(self, direction):\n",
    "        self.t+=1\n",
    "        d_angle = phi_step*direction\n",
    "        self.coord_phi += d_angle\n",
    "        self.coord_x = np.cos(self.coord_phi)\n",
    "        self.coord_y = np.sin(self.coord_phi)\n",
    "        dx = np.cos(d_angle)\n",
    "        dy = np.sin(d_angle)\n",
    "        self.integrator_x+=dx\n",
    "        self.integrator_y+=dy\n",
    "        self.current_run += np.sqrt(dx**2+dy**2)\n",
    "        \n",
    "        self.log()\n",
    "        \n",
    "        am_on_food = self.environment.update(self.coord_phi, self.t)\n",
    "        if am_on_food is not None:\n",
    "            self.on_food(am_on_food)\n",
    "    \n",
    "    def plot_angle_history(self, ax=None):\n",
    "        if ax is None:\n",
    "            ax=plt.gca()\n",
    "        ax.plot(self.t_log, self.phi_log, '.-')\n",
    "\n",
    "    def plot_trajectory(self, ax=None):\n",
    "        if ax is None:\n",
    "            ax=plt.gca()\n",
    "        \n",
    "        angles = np.array(self.phi_log)\n",
    "        xx = np.cos(angles)\n",
    "        yy = np.sin(angles)\n",
    "        ax.plot(xx, yy)\n",
    "        ax.axis('equal')\n",
    "    \n",
    "    def on_food(self, food_index):\n",
    "        print(self.t, \" - fly on food!\")\n",
    "        self.mode = 'LS' # enter the local search mode\n",
    "\n",
    "        # remember the eating state\n",
    "        self.last_state = 'eating'\n",
    "\n",
    "        # disable food source for refractory period\n",
    "        self.environment.disable_food(food_index, refractory=True)\n",
    "        \n",
    "        # stay on food location for a while\n",
    "        self.eat()\n",
    "        \n",
    "        self.zero_integrator()\n",
    "        self.choose_run_length()\n",
    "        \n",
    "        \n",
    "    def eat(self):\n",
    "        # do nothing for self.eating time (only update the environment based on current time)\n",
    "        for t in range(self.eating_time):\n",
    "            self.t+=1\n",
    "            # update log at every step\n",
    "            self.log(eating=True)\n",
    "#             self.t_log.append(self.t)\n",
    "#             self.phi_log.append(self.coord_phi)\n",
    "            # update environment\n",
    "            print('fly eating', self.t)\n",
    "            self.environment.update(self.coord_phi, self.t)\n",
    "\n",
    "    def choose_run_length(self):\n",
    "        # if just was on food\n",
    "        if self.last_state=='eating':\n",
    "            self.run_length = np.random.normal(RL_mean, RL_std) + self.current_run\n",
    "        elif self.last_state == 'reversal':\n",
    "            self.run_length = np.abs(self.current_run + np.random.normal(dRL_mean, dRL_std))\n",
    "        print(f\"Prev: {self.last_state}, current run: {self.current_run}, RL:{self.run_length}\" )\n",
    "            \n",
    "    def zero_integrator(self):\n",
    "        self.integrator_x = 0\n",
    "        self.integrator_y = 0\n",
    "        self.current_run = 0\n",
    "        \n",
    "    def start_walking(self, Tlim = 500):\n",
    "        while self.mode == \"GS\":\n",
    "            self.make_step(self.direction)\n",
    "        if self.mode == 'LS':\n",
    "            while self.t < Tlim:\n",
    "                print(f\"{self.t} | run: {self.current_run}\")\n",
    "                self.make_step(self.direction)\n",
    "                if self.current_run >=self.run_length:\n",
    "                    self.reversal()\n",
    "    def reversal(self):\n",
    "        self.direction *= -1        \n",
    "        self.choose_run_length()\n",
    "        self.zero_integrator()\n",
    "        self.last_state = 'reversal'\n",
    "        \n",
    "    def get_df(self):\n",
    "        df = pd.DataFrame(dict(t=fly.t_log, angle=fly.phi_log, \n",
    "                                 eating=fly.eat_log, direction=fly.direction_log))\n",
    "        run_num = df.direction.diff().abs()/2\n",
    "        df[\"run_num\"] = run_num.cumsum()\n",
    "        df.loc[0, \"run_num\"] = 0\n",
    "        df.run_num = df.run_num - df[df.eating].iloc[-1].run_num - 1\n",
    "        return df\n",
    "    "
   ]
  },
  {
   "cell_type": "code",
   "execution_count": 10,
   "metadata": {},
   "outputs": [
    {
     "data": {
      "text/plain": [
       "5.316271495741631"
      ]
     },
     "execution_count": 10,
     "metadata": {},
     "output_type": "execute_result"
    }
   ],
   "source": [
    "RL_mean = 4.125\n",
    "RL_std = 2.625\n",
    "dRL_mean = 0.03125\n",
    "dRL_std = 1.875\n",
    "np.random.normal(RL_mean, RL_std)"
   ]
  },
  {
   "cell_type": "code",
   "execution_count": null,
   "metadata": {},
   "outputs": [],
   "source": []
  },
  {
   "cell_type": "code",
   "execution_count": 11,
   "metadata": {},
   "outputs": [],
   "source": [
    "f = MyFly()"
   ]
  },
  {
   "cell_type": "code",
   "execution_count": 12,
   "metadata": {
    "scrolled": true
   },
   "outputs": [
    {
     "name": "stdout",
     "output_type": "stream",
     "text": [
      "t=5: Food #0 [0] := True\n",
      "update: 5 0 -0.8458134067357135 fly-food: 0.8458134067357135 mod2pi: 0.8458134067357135\n",
      "update: 6 0 -0.966643893412244 fly-food: 0.966643893412244 mod2pi: 0.966643893412244\n",
      "update: 7 0 -1.0874743800887745 fly-food: 1.0874743800887745 mod2pi: 1.0874743800887745\n",
      "update: 8 0 -1.208304866765305 fly-food: 1.208304866765305 mod2pi: 1.208304866765305\n",
      "update: 9 0 -1.3291353534418353 fly-food: 1.3291353534418353 mod2pi: 1.3291353534418353\n",
      "update: 10 0 -1.4499658401183657 fly-food: 1.4499658401183657 mod2pi: 1.4499658401183657\n",
      "update: 11 0 -1.5707963267948961 fly-food: 1.5707963267948961 mod2pi: 1.5707963267948961\n",
      "update: 12 0 -1.6916268134714265 fly-food: 1.6916268134714265 mod2pi: 1.6916268134714265\n",
      "update: 13 0 -1.812457300147957 fly-food: 1.812457300147957 mod2pi: 1.812457300147957\n",
      "update: 14 0 -1.9332877868244873 fly-food: 1.9332877868244873 mod2pi: 1.9332877868244873\n",
      "update: 15 0 -2.0541182735010177 fly-food: 2.0541182735010177 mod2pi: 2.0541182735010177\n",
      "update: 16 0 -2.174948760177548 fly-food: 2.174948760177548 mod2pi: 2.174948760177548\n",
      "update: 17 0 -2.2957792468540785 fly-food: 2.2957792468540785 mod2pi: 2.2957792468540785\n",
      "update: 18 0 -2.416609733530609 fly-food: 2.416609733530609 mod2pi: 2.416609733530609\n",
      "update: 19 0 -2.5374402202071393 fly-food: 2.5374402202071393 mod2pi: 2.5374402202071393\n",
      "update: 20 0 -2.6582707068836697 fly-food: 2.6582707068836697 mod2pi: 2.6582707068836697\n",
      "update: 21 0 -2.7791011935602 fly-food: 2.7791011935602 mod2pi: 2.7791011935602\n",
      "update: 22 0 -2.8999316802367305 fly-food: 2.8999316802367305 mod2pi: 2.8999316802367305\n",
      "update: 23 0 -3.020762166913261 fly-food: 3.020762166913261 mod2pi: 3.020762166913261\n",
      "update: 24 0 -3.1415926535897913 fly-food: 3.1415926535897913 mod2pi: 3.1415926535897913\n",
      "update: 25 0 -3.2624231402663217 fly-food: 3.2624231402663217 mod2pi: 3.2624231402663217\n",
      "update: 26 0 -3.383253626942852 fly-food: 3.383253626942852 mod2pi: 3.383253626942852\n",
      "update: 27 0 -3.5040841136193825 fly-food: 3.5040841136193825 mod2pi: 3.5040841136193825\n",
      "update: 28 0 -3.624914600295913 fly-food: 3.624914600295913 mod2pi: 3.624914600295913\n",
      "update: 29 0 -3.7457450869724433 fly-food: 3.7457450869724433 mod2pi: 3.7457450869724433\n",
      "update: 30 0 -3.8665755736489738 fly-food: 3.8665755736489738 mod2pi: 3.8665755736489738\n",
      "update: 31 0 -3.987406060325504 fly-food: 3.987406060325504 mod2pi: 3.987406060325504\n",
      "update: 32 0 -4.1082365470020346 fly-food: 4.1082365470020346 mod2pi: 4.1082365470020346\n",
      "update: 33 0 -4.229067033678565 fly-food: 4.229067033678565 mod2pi: 4.229067033678565\n"
     ]
    }
   ],
   "source": [
    "for i in range(3):\n",
    "    f.make_step(1)\n",
    "for i in range(30):\n",
    "    f.make_step(-1)"
   ]
  },
  {
   "cell_type": "code",
   "execution_count": 13,
   "metadata": {},
   "outputs": [
    {
     "data": {
      "text/plain": [
       "[<matplotlib.lines.Line2D at 0x7fcdc19bd090>]"
      ]
     },
     "execution_count": 13,
     "metadata": {},
     "output_type": "execute_result"
    },
    {
     "data": {
      "image/png": "[encoded data removed]",
      "text/plain": [
       "<Figure size 432x288 with 1 Axes>"
      ]
     },
     "metadata": {
      "needs_background": "light"
     },
     "output_type": "display_data"
    }
   ],
   "source": [
    "fig, ax = plt.subplots() \n",
    "f.plot_angle_history(ax)\n",
    "plt.plot(f.environment.food_log[\"t\"], f.environment.food_log[0])"
   ]
  },
  {
   "cell_type": "code",
   "execution_count": 14,
   "metadata": {},
   "outputs": [
    {
     "data": {
      "image/png": "[encoded data removed]",
      "text/plain": [
       "<Figure size 432x288 with 1 Axes>"
      ]
     },
     "metadata": {
      "needs_background": "light"
     },
     "output_type": "display_data"
    }
   ],
   "source": [
    "f.plot_trajectory()"
   ]
  },
  {
   "cell_type": "code",
   "execution_count": 15,
   "metadata": {},
   "outputs": [],
   "source": [
    "fly = MyFly()"
   ]
  },
  {
   "cell_type": "code",
   "execution_count": 16,
   "metadata": {},
   "outputs": [
    {
     "name": "stdout",
     "output_type": "stream",
     "text": [
      "t=5: Food #0 [0] := True\n",
      "update: 5 0 -0.36249146002959143 fly-food: 0.36249146002959143 mod2pi: 0.36249146002959143\n",
      "update: 6 0 -0.24166097335306091 fly-food: 0.24166097335306091 mod2pi: 0.24166097335306091\n",
      "update: 7 0 -0.12083048667653042 fly-food: 0.12083048667653042 mod2pi: 0.12083048667653042\n",
      "update: 8 0 8.326672684688674e-17 fly-food: 8.326672684688674e-17 mod2pi: 8.326672684688674e-17\n",
      "8  - fly on food!\n",
      "t=8: Food #0 [0] := False\n",
      "fly eating 9\n",
      "fly eating 10\n",
      "fly eating 11\n",
      "fly eating 12\n",
      "fly eating 13\n",
      "fly eating 14\n",
      "fly eating 15\n",
      "fly eating 16\n",
      "fly eating 17\n",
      "fly eating 18\n",
      "Prev: eating, current run: 0, RL:-0.3040445790567299\n",
      "18 | run: 0\n",
      "Prev: eating, current run: 1.0, RL:-2.091656171980599\n",
      "19 | run: 0\n",
      "Prev: reversal, current run: 1.0, RL:2.961166451376528\n",
      "20 | run: 0\n",
      "21 | run: 1.0\n",
      "22 | run: 2.0\n",
      "Prev: reversal, current run: 3.0, RL:5.387854472160557\n",
      "23 | run: 0\n",
      "t=24: Food #0 [0] := True\n",
      "update: 24 0 0.24166097335306108 fly-food: 0.24166097335306108 mod2pi: 0.24166097335306108\n",
      "24 | run: 1.0\n",
      "update: 25 0 0.12083048667653058 fly-food: 0.12083048667653058 mod2pi: 0.12083048667653058\n",
      "25 | run: 2.0\n",
      "update: 26 0 8.326672684688674e-17 fly-food: 8.326672684688674e-17 mod2pi: 8.326672684688674e-17\n",
      "26  - fly on food!\n",
      "t=26: Food #0 [0] := False\n",
      "fly eating 27\n",
      "fly eating 28\n",
      "fly eating 29\n",
      "fly eating 30\n",
      "fly eating 31\n",
      "fly eating 32\n",
      "fly eating 33\n",
      "fly eating 34\n",
      "fly eating 35\n",
      "fly eating 36\n",
      "Prev: eating, current run: 0, RL:4.60290593991529\n",
      "36 | run: 0\n",
      "37 | run: 1.0\n",
      "38 | run: 2.0\n",
      "39 | run: 3.0\n",
      "40 | run: 4.0\n",
      "Prev: eating, current run: 5.0, RL:11.107335124681587\n",
      "41 | run: 0\n",
      "t=42: Food #0 [0] := True\n",
      "update: 42 0 -0.48332194670612194 fly-food: 0.48332194670612194 mod2pi: 0.48332194670612194\n",
      "42 | run: 1.0\n",
      "update: 43 0 -0.36249146002959143 fly-food: 0.36249146002959143 mod2pi: 0.36249146002959143\n",
      "43 | run: 2.0\n",
      "update: 44 0 -0.24166097335306091 fly-food: 0.24166097335306091 mod2pi: 0.24166097335306091\n",
      "44 | run: 3.0\n",
      "update: 45 0 -0.12083048667653042 fly-food: 0.12083048667653042 mod2pi: 0.12083048667653042\n",
      "45 | run: 4.0\n",
      "update: 46 0 8.326672684688674e-17 fly-food: 8.326672684688674e-17 mod2pi: 8.326672684688674e-17\n",
      "46  - fly on food!\n",
      "t=46: Food #0 [0] := False\n",
      "fly eating 47\n",
      "fly eating 48\n",
      "fly eating 49\n",
      "fly eating 50\n",
      "fly eating 51\n",
      "fly eating 52\n",
      "fly eating 53\n",
      "fly eating 54\n",
      "fly eating 55\n",
      "fly eating 56\n",
      "Prev: eating, current run: 0, RL:3.14001773194863\n",
      "56 | run: 0\n",
      "57 | run: 1.0\n",
      "58 | run: 2.0\n",
      "59 | run: 3.0\n",
      "Prev: eating, current run: 4.0, RL:7.96217632852123\n",
      "60 | run: 0\n",
      "61 | run: 1.0\n",
      "t=62: Food #0 [0] := True\n",
      "update: 62 0 0.24166097335306108 fly-food: 0.24166097335306108 mod2pi: 0.24166097335306108\n",
      "62 | run: 2.0\n",
      "update: 63 0 0.12083048667653058 fly-food: 0.12083048667653058 mod2pi: 0.12083048667653058\n",
      "63 | run: 3.0\n",
      "update: 64 0 8.326672684688674e-17 fly-food: 8.326672684688674e-17 mod2pi: 8.326672684688674e-17\n",
      "64  - fly on food!\n",
      "t=64: Food #0 [0] := False\n",
      "fly eating 65\n",
      "fly eating 66\n",
      "fly eating 67\n",
      "fly eating 68\n",
      "fly eating 69\n",
      "fly eating 70\n",
      "fly eating 71\n",
      "fly eating 72\n",
      "fly eating 73\n",
      "fly eating 74\n",
      "Prev: eating, current run: 0, RL:2.6476340569559254\n",
      "74 | run: 0\n",
      "75 | run: 1.0\n",
      "76 | run: 2.0\n",
      "Prev: eating, current run: 3.0, RL:2.339222947781134\n",
      "77 | run: 0\n",
      "78 | run: 1.0\n",
      "79 | run: 2.0\n",
      "t=80: Food #0 [0] := True\n",
      "update: 80 0 8.326672684688674e-17 fly-food: 8.326672684688674e-17 mod2pi: 8.326672684688674e-17\n",
      "80  - fly on food!\n",
      "t=80: Food #0 [0] := False\n",
      "fly eating 81\n",
      "fly eating 82\n",
      "fly eating 83\n",
      "fly eating 84\n",
      "fly eating 85\n",
      "fly eating 86\n",
      "fly eating 87\n",
      "fly eating 88\n",
      "fly eating 89\n",
      "fly eating 90\n",
      "Prev: eating, current run: 0, RL:3.3004181919334674\n",
      "90 | run: 0\n",
      "91 | run: 1.0\n",
      "92 | run: 2.0\n",
      "93 | run: 3.0\n",
      "Prev: eating, current run: 4.0, RL:1.7968141284478074\n",
      "94 | run: 0\n",
      "95 | run: 1.0\n",
      "t=96: Food #0 [0] := True\n",
      "update: 96 0 0.24166097335306108 fly-food: 0.24166097335306108 mod2pi: 0.24166097335306108\n",
      "Prev: reversal, current run: 2.0, RL:4.218532082906902\n",
      "96 | run: 0\n",
      "update: 97 0 0.3624914600295916 fly-food: 0.3624914600295916 mod2pi: 0.3624914600295916\n",
      "97 | run: 1.0\n",
      "update: 98 0 0.4833219467061221 fly-food: 0.4833219467061221 mod2pi: 0.4833219467061221\n",
      "98 | run: 2.0\n",
      "update: 99 0 0.6041524333826526 fly-food: 0.6041524333826526 mod2pi: 0.6041524333826526\n",
      "99 | run: 3.0\n",
      "t=100: Food #0 [0] := False\n",
      "100 | run: 4.0\n",
      "Prev: reversal, current run: 5.0, RL:5.669854440532008\n",
      "101 | run: 0\n",
      "102 | run: 1.0\n",
      "103 | run: 2.0\n",
      "104 | run: 3.0\n",
      "105 | run: 4.0\n",
      "106 | run: 5.0\n",
      "Prev: reversal, current run: 6.0, RL:9.014200540461296\n",
      "107 | run: 0\n",
      "108 | run: 1.0\n",
      "109 | run: 2.0\n",
      "110 | run: 3.0\n",
      "111 | run: 4.0\n",
      "112 | run: 5.0\n",
      "113 | run: 6.0\n",
      "114 | run: 7.0\n",
      "115 | run: 8.0\n",
      "116 | run: 9.0\n",
      "Prev: reversal, current run: 10.0, RL:8.913702640979333\n",
      "117 | run: 0\n",
      "118 | run: 1.0\n",
      "119 | run: 2.0\n",
      "120 | run: 3.0\n",
      "121 | run: 4.0\n",
      "122 | run: 5.0\n",
      "123 | run: 6.0\n",
      "124 | run: 7.0\n",
      "125 | run: 8.0\n",
      "Prev: reversal, current run: 9.0, RL:9.388201419516987\n",
      "126 | run: 0\n",
      "127 | run: 1.0\n",
      "128 | run: 2.0\n",
      "129 | run: 3.0\n",
      "130 | run: 4.0\n",
      "131 | run: 5.0\n",
      "132 | run: 6.0\n",
      "133 | run: 7.0\n",
      "134 | run: 8.0\n",
      "135 | run: 9.0\n",
      "Prev: reversal, current run: 10.0, RL:10.049868086261226\n",
      "136 | run: 0\n",
      "137 | run: 1.0\n",
      "138 | run: 2.0\n",
      "139 | run: 3.0\n",
      "140 | run: 4.0\n",
      "141 | run: 5.0\n",
      "142 | run: 6.0\n",
      "143 | run: 7.0\n",
      "144 | run: 8.0\n",
      "145 | run: 9.0\n",
      "146 | run: 10.0\n",
      "Prev: reversal, current run: 11.0, RL:12.73325927583739\n",
      "147 | run: 0\n",
      "148 | run: 1.0\n",
      "149 | run: 2.0\n",
      "150 | run: 3.0\n",
      "151 | run: 4.0\n",
      "152 | run: 5.0\n",
      "153 | run: 6.0\n",
      "154 | run: 7.0\n",
      "155 | run: 8.0\n",
      "156 | run: 9.0\n",
      "157 | run: 10.0\n",
      "158 | run: 11.0\n",
      "159 | run: 12.0\n",
      "Prev: reversal, current run: 13.0, RL:11.336654905021183\n",
      "160 | run: 0\n",
      "161 | run: 1.0\n",
      "162 | run: 2.0\n",
      "163 | run: 3.0\n",
      "164 | run: 4.0\n",
      "165 | run: 5.0\n",
      "166 | run: 6.0\n",
      "167 | run: 7.0\n",
      "168 | run: 8.0\n",
      "169 | run: 9.0\n",
      "170 | run: 10.0\n",
      "171 | run: 11.0\n",
      "Prev: reversal, current run: 12.0, RL:14.88184454508287\n",
      "172 | run: 0\n",
      "173 | run: 1.0\n",
      "174 | run: 2.0\n",
      "175 | run: 3.0\n",
      "176 | run: 4.0\n",
      "177 | run: 5.0\n",
      "178 | run: 6.0\n",
      "179 | run: 7.0\n",
      "180 | run: 8.0\n",
      "181 | run: 9.0\n",
      "182 | run: 10.0\n",
      "183 | run: 11.0\n",
      "184 | run: 12.0\n",
      "185 | run: 13.0\n",
      "186 | run: 14.0\n",
      "Prev: reversal, current run: 15.0, RL:15.49496514806097\n",
      "187 | run: 0\n",
      "188 | run: 1.0\n",
      "189 | run: 2.0\n",
      "190 | run: 3.0\n",
      "191 | run: 4.0\n",
      "192 | run: 5.0\n",
      "193 | run: 6.0\n",
      "194 | run: 7.0\n",
      "195 | run: 8.0\n",
      "196 | run: 9.0\n",
      "197 | run: 10.0\n",
      "198 | run: 11.0\n",
      "199 | run: 12.0\n"
     ]
    }
   ],
   "source": [
    "fly.start_walking(Tlim=200)"
   ]
  },
  {
   "cell_type": "code",
   "execution_count": 17,
   "metadata": {},
   "outputs": [
    {
     "data": {
      "text/plain": [
       "[<matplotlib.lines.Line2D at 0x7fcdc18b9290>]"
      ]
     },
     "execution_count": 17,
     "metadata": {},
     "output_type": "execute_result"
    },
    {
     "data": {
      "image/png": "[encoded data removed]",
      "text/plain": [
       "<Figure size 432x288 with 1 Axes>"
      ]
     },
     "metadata": {
      "needs_background": "light"
     },
     "output_type": "display_data"
    }
   ],
   "source": [
    "fly.plot_angle_history()\n",
    "plt.plot(fly.environment.food_log[\"t\"], fly.environment.food_log[0])"
   ]
  },
  {
   "cell_type": "code",
   "execution_count": 18,
   "metadata": {},
   "outputs": [],
   "source": [
    "df = fly.get_df()"
   ]
  },
  {
   "cell_type": "code",
   "execution_count": 19,
   "metadata": {},
   "outputs": [],
   "source": [
    "run_num = df.direction.diff().abs()/2"
   ]
  },
  {
   "cell_type": "code",
   "execution_count": 20,
   "metadata": {},
   "outputs": [],
   "source": [
    "df[\"run_num\"] = run_num.cumsum()"
   ]
  },
  {
   "cell_type": "code",
   "execution_count": 21,
   "metadata": {},
   "outputs": [],
   "source": [
    "df.loc[0, \"run_num\"] = 0"
   ]
  },
  {
   "cell_type": "code",
   "execution_count": 22,
   "metadata": {},
   "outputs": [
    {
     "data": {
      "text/plain": [
       "t                     90\n",
       "angle        8.32667e-17\n",
       "eating              True\n",
       "direction              1\n",
       "run_num                6\n",
       "Name: 90, dtype: object"
      ]
     },
     "execution_count": 22,
     "metadata": {},
     "output_type": "execute_result"
    }
   ],
   "source": [
    "df[df.eating].iloc[-1]"
   ]
  },
  {
   "cell_type": "code",
   "execution_count": 23,
   "metadata": {},
   "outputs": [],
   "source": [
    "#df.loc[0, \"run_num\"] = 0\n",
    "df.run_num = df.run_num - df[df.eating].iloc[-1].run_num - 1"
   ]
  },
  {
   "cell_type": "code",
   "execution_count": 24,
   "metadata": {},
   "outputs": [
    {
     "name": "stdout",
     "output_type": "stream",
     "text": [
      "[False  True]\n",
      "[False]\n",
      "[False]\n"
     ]
    }
   ],
   "source": [
    "for rn in [-1,0,1]:\n",
    "    print(df[df.run_num ==rn].eating.unique())"
   ]
  },
  {
   "cell_type": "code",
   "execution_count": 25,
   "metadata": {},
   "outputs": [
    {
     "data": {
      "text/plain": [
       "array([-7., -6., -5., -4., -3., -2., -1.,  0.,  1.,  2.,  3.,  4.,  5.,\n",
       "        6.,  7.,  8.,  9., 10.])"
      ]
     },
     "execution_count": 25,
     "metadata": {},
     "output_type": "execute_result"
    }
   ],
   "source": [
    "df.run_num.unique()"
   ]
  },
  {
   "cell_type": "code",
   "execution_count": 26,
   "metadata": {},
   "outputs": [],
   "source": [
    "run_info = df.groupby(\"run_num\").aggregate({'angle':['first', 'last']})"
   ]
  },
  {
   "cell_type": "code",
   "execution_count": 27,
   "metadata": {},
   "outputs": [],
   "source": [
    "run_info.columns = [\"_\".join(x) for x in run_info.columns.ravel()]\n"
   ]
  },
  {
   "cell_type": "code",
   "execution_count": 28,
   "metadata": {},
   "outputs": [
    {
     "data": {
      "text/html": [
       "<div>\n",
       "<style scoped>\n",
       "    .dataframe tbody tr th:only-of-type {\n",
       "        vertical-align: middle;\n",
       "    }\n",
       "\n",
       "    .dataframe tbody tr th {\n",
       "        vertical-align: top;\n",
       "    }\n",
       "\n",
       "    .dataframe thead th {\n",
       "        text-align: right;\n",
       "    }\n",
       "</style>\n",
       "<table border=\"1\" class=\"dataframe\">\n",
       "  <thead>\n",
       "    <tr style=\"text-align: right;\">\n",
       "      <th></th>\n",
       "      <th>angle_first</th>\n",
       "      <th>angle_last</th>\n",
       "    </tr>\n",
       "    <tr>\n",
       "      <th>run_num</th>\n",
       "      <th></th>\n",
       "      <th></th>\n",
       "    </tr>\n",
       "  </thead>\n",
       "  <tbody>\n",
       "    <tr>\n",
       "      <th>-7.0</th>\n",
       "      <td>-9.666439e-01</td>\n",
       "      <td>1.208305e-01</td>\n",
       "    </tr>\n",
       "    <tr>\n",
       "      <th>-6.0</th>\n",
       "      <td>8.326673e-17</td>\n",
       "      <td>8.326673e-17</td>\n",
       "    </tr>\n",
       "    <tr>\n",
       "      <th>-5.0</th>\n",
       "      <td>1.208305e-01</td>\n",
       "      <td>3.624915e-01</td>\n",
       "    </tr>\n",
       "    <tr>\n",
       "      <th>-4.0</th>\n",
       "      <td>2.416610e-01</td>\n",
       "      <td>-6.041524e-01</td>\n",
       "    </tr>\n",
       "    <tr>\n",
       "      <th>-3.0</th>\n",
       "      <td>-4.833219e-01</td>\n",
       "      <td>4.833219e-01</td>\n",
       "    </tr>\n",
       "    <tr>\n",
       "      <th>-2.0</th>\n",
       "      <td>3.624915e-01</td>\n",
       "      <td>-3.624915e-01</td>\n",
       "    </tr>\n",
       "    <tr>\n",
       "      <th>-1.0</th>\n",
       "      <td>-2.416610e-01</td>\n",
       "      <td>4.833219e-01</td>\n",
       "    </tr>\n",
       "    <tr>\n",
       "      <th>0.0</th>\n",
       "      <td>3.624915e-01</td>\n",
       "      <td>2.416610e-01</td>\n",
       "    </tr>\n",
       "    <tr>\n",
       "      <th>1.0</th>\n",
       "      <td>3.624915e-01</td>\n",
       "      <td>8.458134e-01</td>\n",
       "    </tr>\n",
       "    <tr>\n",
       "      <th>2.0</th>\n",
       "      <td>7.249829e-01</td>\n",
       "      <td>1.208305e-01</td>\n",
       "    </tr>\n",
       "    <tr>\n",
       "      <th>3.0</th>\n",
       "      <td>2.416610e-01</td>\n",
       "      <td>1.329135e+00</td>\n",
       "    </tr>\n",
       "    <tr>\n",
       "      <th>4.0</th>\n",
       "      <td>1.208305e+00</td>\n",
       "      <td>2.416610e-01</td>\n",
       "    </tr>\n",
       "    <tr>\n",
       "      <th>5.0</th>\n",
       "      <td>3.624915e-01</td>\n",
       "      <td>1.449966e+00</td>\n",
       "    </tr>\n",
       "    <tr>\n",
       "      <th>6.0</th>\n",
       "      <td>1.329135e+00</td>\n",
       "      <td>1.208305e-01</td>\n",
       "    </tr>\n",
       "    <tr>\n",
       "      <th>7.0</th>\n",
       "      <td>2.416610e-01</td>\n",
       "      <td>1.691627e+00</td>\n",
       "    </tr>\n",
       "    <tr>\n",
       "      <th>8.0</th>\n",
       "      <td>1.570796e+00</td>\n",
       "      <td>2.416610e-01</td>\n",
       "    </tr>\n",
       "    <tr>\n",
       "      <th>9.0</th>\n",
       "      <td>3.624915e-01</td>\n",
       "      <td>2.054118e+00</td>\n",
       "    </tr>\n",
       "    <tr>\n",
       "      <th>10.0</th>\n",
       "      <td>1.933288e+00</td>\n",
       "      <td>4.833219e-01</td>\n",
       "    </tr>\n",
       "  </tbody>\n",
       "</table>\n",
       "</div>"
      ],
      "text/plain": [
       "          angle_first    angle_last\n",
       "run_num                            \n",
       "-7.0    -9.666439e-01  1.208305e-01\n",
       "-6.0     8.326673e-17  8.326673e-17\n",
       "-5.0     1.208305e-01  3.624915e-01\n",
       "-4.0     2.416610e-01 -6.041524e-01\n",
       "-3.0    -4.833219e-01  4.833219e-01\n",
       "-2.0     3.624915e-01 -3.624915e-01\n",
       "-1.0    -2.416610e-01  4.833219e-01\n",
       " 0.0     3.624915e-01  2.416610e-01\n",
       " 1.0     3.624915e-01  8.458134e-01\n",
       " 2.0     7.249829e-01  1.208305e-01\n",
       " 3.0     2.416610e-01  1.329135e+00\n",
       " 4.0     1.208305e+00  2.416610e-01\n",
       " 5.0     3.624915e-01  1.449966e+00\n",
       " 6.0     1.329135e+00  1.208305e-01\n",
       " 7.0     2.416610e-01  1.691627e+00\n",
       " 8.0     1.570796e+00  2.416610e-01\n",
       " 9.0     3.624915e-01  2.054118e+00\n",
       " 10.0    1.933288e+00  4.833219e-01"
      ]
     },
     "execution_count": 28,
     "metadata": {},
     "output_type": "execute_result"
    }
   ],
   "source": [
    "run_info"
   ]
  },
  {
   "cell_type": "code",
   "execution_count": 29,
   "metadata": {},
   "outputs": [],
   "source": [
    "run_info[\"run_midpoint\"] = (run_info.angle_last + run_info.angle_first)/2"
   ]
  },
  {
   "cell_type": "code",
   "execution_count": 30,
   "metadata": {},
   "outputs": [
    {
     "data": {
      "text/plain": [
       "run_num\n",
       "-7.0    -4.229067e-01\n",
       "-6.0     8.326673e-17\n",
       "-5.0     2.416610e-01\n",
       "-4.0    -1.812457e-01\n",
       "-3.0     8.326673e-17\n",
       "-2.0     8.326673e-17\n",
       "-1.0     1.208305e-01\n",
       " 0.0     3.020762e-01\n",
       " 1.0     6.041524e-01\n",
       " 2.0     4.229067e-01\n",
       " 3.0     7.853982e-01\n",
       " 4.0     7.249829e-01\n",
       " 5.0     9.062287e-01\n",
       " 6.0     7.249829e-01\n",
       " 7.0     9.666439e-01\n",
       " 8.0     9.062287e-01\n",
       " 9.0     1.208305e+00\n",
       " 10.0    1.208305e+00\n",
       "Name: run_midpoint, dtype: float64"
      ]
     },
     "execution_count": 30,
     "metadata": {},
     "output_type": "execute_result"
    }
   ],
   "source": [
    "run_info.run_midpoint"
   ]
  },
  {
   "cell_type": "code",
   "execution_count": 42,
   "metadata": {},
   "outputs": [],
   "source": [
    "df = pd.read_csv(\"fr_simulations.csv\")"
   ]
  },
  {
   "cell_type": "code",
   "execution_count": 43,
   "metadata": {},
   "outputs": [
    {
     "data": {
      "text/html": [
       "<div>\n",
       "<style scoped>\n",
       "    .dataframe tbody tr th:only-of-type {\n",
       "        vertical-align: middle;\n",
       "    }\n",
       "\n",
       "    .dataframe tbody tr th {\n",
       "        vertical-align: top;\n",
       "    }\n",
       "\n",
       "    .dataframe thead th {\n",
       "        text-align: right;\n",
       "    }\n",
       "</style>\n",
       "<table border=\"1\" class=\"dataframe\">\n",
       "  <thead>\n",
       "    <tr style=\"text-align: right;\">\n",
       "      <th></th>\n",
       "      <th>t</th>\n",
       "      <th>angle</th>\n",
       "      <th>eating</th>\n",
       "      <th>direction</th>\n",
       "      <th>run_num</th>\n",
       "      <th>flyid</th>\n",
       "    </tr>\n",
       "  </thead>\n",
       "  <tbody>\n",
       "    <tr>\n",
       "      <th>0</th>\n",
       "      <td>0</td>\n",
       "      <td>-0.966644</td>\n",
       "      <td>False</td>\n",
       "      <td>1</td>\n",
       "      <td>-32.0</td>\n",
       "      <td>0</td>\n",
       "    </tr>\n",
       "    <tr>\n",
       "      <th>1</th>\n",
       "      <td>1</td>\n",
       "      <td>-0.845813</td>\n",
       "      <td>False</td>\n",
       "      <td>1</td>\n",
       "      <td>-32.0</td>\n",
       "      <td>0</td>\n",
       "    </tr>\n",
       "    <tr>\n",
       "      <th>2</th>\n",
       "      <td>2</td>\n",
       "      <td>-0.724983</td>\n",
       "      <td>False</td>\n",
       "      <td>1</td>\n",
       "      <td>-32.0</td>\n",
       "      <td>0</td>\n",
       "    </tr>\n",
       "    <tr>\n",
       "      <th>3</th>\n",
       "      <td>3</td>\n",
       "      <td>-0.604152</td>\n",
       "      <td>False</td>\n",
       "      <td>1</td>\n",
       "      <td>-32.0</td>\n",
       "      <td>0</td>\n",
       "    </tr>\n",
       "    <tr>\n",
       "      <th>4</th>\n",
       "      <td>4</td>\n",
       "      <td>-0.483322</td>\n",
       "      <td>False</td>\n",
       "      <td>1</td>\n",
       "      <td>-32.0</td>\n",
       "      <td>0</td>\n",
       "    </tr>\n",
       "  </tbody>\n",
       "</table>\n",
       "</div>"
      ],
      "text/plain": [
       "   t     angle  eating  direction  run_num  flyid\n",
       "0  0 -0.966644   False          1    -32.0      0\n",
       "1  1 -0.845813   False          1    -32.0      0\n",
       "2  2 -0.724983   False          1    -32.0      0\n",
       "3  3 -0.604152   False          1    -32.0      0\n",
       "4  4 -0.483322   False          1    -32.0      0"
      ]
     },
     "execution_count": 43,
     "metadata": {},
     "output_type": "execute_result"
    }
   ],
   "source": [
    "df.head()"
   ]
  },
  {
   "cell_type": "code",
   "execution_count": 34,
   "metadata": {},
   "outputs": [],
   "source": [
    "run_info = df.groupby([\"flyid\",\"run_num\"]).aggregate({'angle':['first', 'last']}).reset_index()\n",
    "run_info.columns = [\"_\".join(x) for x in run_info.columns.ravel()]\n"
   ]
  },
  {
   "cell_type": "code",
   "execution_count": 35,
   "metadata": {},
   "outputs": [],
   "source": [
    "run_info['run_midpoint']=(run_info.angle_last + run_info.angle_first)/2"
   ]
  },
  {
   "cell_type": "code",
   "execution_count": 37,
   "metadata": {},
   "outputs": [
    {
     "data": {
      "image/png": "[encoded data removed]",
      "text/plain": [
       "<Figure size 432x288 with 1 Axes>"
      ]
     },
     "metadata": {
      "needs_background": "light"
     },
     "output_type": "display_data"
    }
   ],
   "source": [
    "h=plt.hist(run_info[run_info[\"run_num_\"]<0].run_midpoint,density=True, bins=50)"
   ]
  },
  {
   "cell_type": "code",
   "execution_count": null,
   "metadata": {},
   "outputs": [],
   "source": []
  },
  {
   "cell_type": "code",
   "execution_count": 39,
   "metadata": {},
   "outputs": [],
   "source": [
    "abins = np.linspace(-np.pi, np.pi,100)"
   ]
  },
  {
   "cell_type": "code",
   "execution_count": null,
   "metadata": {},
   "outputs": [],
   "source": []
  },
  {
   "cell_type": "code",
   "execution_count": 40,
   "metadata": {},
   "outputs": [
    {
     "data": {
      "image/png": "[encoded data removed]",
      "text/plain": [
       "<Figure size 432x288 with 1 Axes>"
      ]
     },
     "metadata": {
      "needs_background": "light"
     },
     "output_type": "display_data"
    }
   ],
   "source": [
    "h=plt.hist(run_info[run_info[\"run_num_\"]<0].run_midpoint,density=True, bins=abins)\n",
    "h=plt.hist(run_info[run_info[\"run_num_\"]>=0].run_midpoint,density=True, bins=abins)"
   ]
  },
  {
   "cell_type": "code",
   "execution_count": 41,
   "metadata": {},
   "outputs": [
    {
     "data": {
      "text/plain": [
       "Index(['t', 'angle', 'eating', 'direction', 'run_num', 'flyid'], dtype='object')"
      ]
     },
     "execution_count": 41,
     "metadata": {},
     "output_type": "execute_result"
    }
   ],
   "source": [
    "df.columns"
   ]
  },
  {
   "cell_type": "code",
   "execution_count": 162,
   "metadata": {},
   "outputs": [],
   "source": [
    "\n",
    "df = pd.read_csv(\"data/pheromone_simulations_4.csv\")"
   ]
  },
  {
   "cell_type": "code",
   "execution_count": 163,
   "metadata": {},
   "outputs": [
    {
     "data": {
      "text/html": [
       "<div>\n",
       "<style scoped>\n",
       "    .dataframe tbody tr th:only-of-type {\n",
       "        vertical-align: middle;\n",
       "    }\n",
       "\n",
       "    .dataframe tbody tr th {\n",
       "        vertical-align: top;\n",
       "    }\n",
       "\n",
       "    .dataframe thead th {\n",
       "        text-align: right;\n",
       "    }\n",
       "</style>\n",
       "<table border=\"1\" class=\"dataframe\">\n",
       "  <thead>\n",
       "    <tr style=\"text-align: right;\">\n",
       "      <th></th>\n",
       "      <th>t</th>\n",
       "      <th>angle</th>\n",
       "      <th>eating</th>\n",
       "      <th>direction</th>\n",
       "      <th>smelling</th>\n",
       "      <th>run_num</th>\n",
       "      <th>flyid</th>\n",
       "      <th>last_food_coord</th>\n",
       "      <th>last_food_index</th>\n",
       "    </tr>\n",
       "  </thead>\n",
       "  <tbody>\n",
       "    <tr>\n",
       "      <th>0</th>\n",
       "      <td>0</td>\n",
       "      <td>-0.966644</td>\n",
       "      <td>False</td>\n",
       "      <td>1</td>\n",
       "      <td>False</td>\n",
       "      <td>-28.0</td>\n",
       "      <td>0</td>\n",
       "      <td>0.0</td>\n",
       "      <td>0</td>\n",
       "    </tr>\n",
       "    <tr>\n",
       "      <th>1</th>\n",
       "      <td>1</td>\n",
       "      <td>-0.845813</td>\n",
       "      <td>False</td>\n",
       "      <td>1</td>\n",
       "      <td>False</td>\n",
       "      <td>-28.0</td>\n",
       "      <td>0</td>\n",
       "      <td>0.0</td>\n",
       "      <td>0</td>\n",
       "    </tr>\n",
       "    <tr>\n",
       "      <th>2</th>\n",
       "      <td>2</td>\n",
       "      <td>-0.724983</td>\n",
       "      <td>False</td>\n",
       "      <td>1</td>\n",
       "      <td>False</td>\n",
       "      <td>-28.0</td>\n",
       "      <td>0</td>\n",
       "      <td>0.0</td>\n",
       "      <td>0</td>\n",
       "    </tr>\n",
       "    <tr>\n",
       "      <th>3</th>\n",
       "      <td>3</td>\n",
       "      <td>-0.604152</td>\n",
       "      <td>False</td>\n",
       "      <td>1</td>\n",
       "      <td>False</td>\n",
       "      <td>-28.0</td>\n",
       "      <td>0</td>\n",
       "      <td>0.0</td>\n",
       "      <td>0</td>\n",
       "    </tr>\n",
       "    <tr>\n",
       "      <th>4</th>\n",
       "      <td>4</td>\n",
       "      <td>-0.483322</td>\n",
       "      <td>False</td>\n",
       "      <td>1</td>\n",
       "      <td>False</td>\n",
       "      <td>-28.0</td>\n",
       "      <td>0</td>\n",
       "      <td>0.0</td>\n",
       "      <td>0</td>\n",
       "    </tr>\n",
       "  </tbody>\n",
       "</table>\n",
       "</div>"
      ],
      "text/plain": [
       "   t     angle  eating  direction  smelling  run_num  flyid  last_food_coord  \\\n",
       "0  0 -0.966644   False          1     False    -28.0      0              0.0   \n",
       "1  1 -0.845813   False          1     False    -28.0      0              0.0   \n",
       "2  2 -0.724983   False          1     False    -28.0      0              0.0   \n",
       "3  3 -0.604152   False          1     False    -28.0      0              0.0   \n",
       "4  4 -0.483322   False          1     False    -28.0      0              0.0   \n",
       "\n",
       "   last_food_index  \n",
       "0                0  \n",
       "1                0  \n",
       "2                0  \n",
       "3                0  \n",
       "4                0  "
      ]
     },
     "execution_count": 163,
     "metadata": {},
     "output_type": "execute_result"
    }
   ],
   "source": [
    "df.head()"
   ]
  },
  {
   "cell_type": "code",
   "execution_count": 164,
   "metadata": {},
   "outputs": [
    {
     "data": {
      "text/plain": [
       "array([0, 1, 2])"
      ]
     },
     "execution_count": 164,
     "metadata": {},
     "output_type": "execute_result"
    }
   ],
   "source": [
    "df.last_food_index.unique()"
   ]
  },
  {
   "cell_type": "code",
   "execution_count": 165,
   "metadata": {},
   "outputs": [
    {
     "data": {
      "text/plain": [
       "array([ 0.        ,  0.60415243, -0.60415243])"
      ]
     },
     "execution_count": 165,
     "metadata": {},
     "output_type": "execute_result"
    }
   ],
   "source": [
    "df.last_food_coord.unique()"
   ]
  },
  {
   "cell_type": "code",
   "execution_count": 166,
   "metadata": {},
   "outputs": [],
   "source": [
    "# df.flyid.unique()"
   ]
  },
  {
   "cell_type": "code",
   "execution_count": 167,
   "metadata": {},
   "outputs": [
    {
     "data": {
      "image/png": "[encoded data removed]",
      "text/plain": [
       "<Figure size 1080x288 with 1 Axes>"
      ]
     },
     "metadata": {
      "needs_background": "light"
     },
     "output_type": "display_data"
    },
    {
     "data": {
      "image/png": "[encoded data removed]",
      "text/plain": [
       "<Figure size 1080x288 with 1 Axes>"
      ]
     },
     "metadata": {
      "needs_background": "light"
     },
     "output_type": "display_data"
    },
    {
     "data": {
      "image/png": "[encoded data removed]",
      "text/plain": [
       "<Figure size 1080x288 with 1 Axes>"
      ]
     },
     "metadata": {
      "needs_background": "light"
     },
     "output_type": "display_data"
    }
   ],
   "source": [
    "i=0\n",
    "for flyid, data in df.groupby(\"flyid\"):\n",
    "    if i>2: \n",
    "        break    \n",
    "    plt.figure(figsize=(15,4))\n",
    "    plt.plot(data.t, data.angle, color='k')\n",
    "    plt.plot(data[data.eating].t, data[data.eating].angle, '.', color='red')\n",
    "    plt.plot(data[data.smelling].t,data[data.smelling].angle , '.', color='cyan')\n",
    "    plt.axhline(data.last_food_coord.iloc[0], ls='--')\n",
    "    plt.axhline(data.last_food_coord.iloc[0]+2*np.pi, ls='--')\n",
    "    plt.axhline(data.last_food_coord.iloc[0]-2*np.pi, ls='--')\n",
    "    plt.axvline(600)\n",
    "    plt.xlim(400,800)\n",
    "    i+=1\n"
   ]
  },
  {
   "cell_type": "code",
   "execution_count": 210,
   "metadata": {},
   "outputs": [],
   "source": [
    "df['next_angle'] = df.angle.shift(-1)"
   ]
  },
  {
   "cell_type": "code",
   "execution_count": 212,
   "metadata": {},
   "outputs": [],
   "source": [
    "df['prev_angle'] = df.angle.shift(1) # need to do it in groups!!!"
   ]
  },
  {
   "cell_type": "code",
   "execution_count": 219,
   "metadata": {},
   "outputs": [
    {
     "data": {
      "text/html": [
       "<div>\n",
       "<style scoped>\n",
       "    .dataframe tbody tr th:only-of-type {\n",
       "        vertical-align: middle;\n",
       "    }\n",
       "\n",
       "    .dataframe tbody tr th {\n",
       "        vertical-align: top;\n",
       "    }\n",
       "\n",
       "    .dataframe thead th {\n",
       "        text-align: right;\n",
       "    }\n",
       "</style>\n",
       "<table border=\"1\" class=\"dataframe\">\n",
       "  <thead>\n",
       "    <tr style=\"text-align: right;\">\n",
       "      <th></th>\n",
       "      <th>t</th>\n",
       "      <th>angle</th>\n",
       "      <th>eating</th>\n",
       "      <th>direction</th>\n",
       "      <th>smelling</th>\n",
       "      <th>run_num</th>\n",
       "      <th>flyid</th>\n",
       "      <th>last_food_coord</th>\n",
       "      <th>last_food_index</th>\n",
       "      <th>next_angle</th>\n",
       "      <th>prev_angle</th>\n",
       "    </tr>\n",
       "  </thead>\n",
       "  <tbody>\n",
       "    <tr>\n",
       "      <th>43</th>\n",
       "      <td>43</td>\n",
       "      <td>1.812457</td>\n",
       "      <td>False</td>\n",
       "      <td>1</td>\n",
       "      <td>False</td>\n",
       "      <td>-28.0</td>\n",
       "      <td>0</td>\n",
       "      <td>0.0</td>\n",
       "      <td>0</td>\n",
       "      <td>1.933288</td>\n",
       "      <td>1.691627</td>\n",
       "    </tr>\n",
       "    <tr>\n",
       "      <th>44</th>\n",
       "      <td>44</td>\n",
       "      <td>1.933288</td>\n",
       "      <td>False</td>\n",
       "      <td>1</td>\n",
       "      <td>False</td>\n",
       "      <td>-28.0</td>\n",
       "      <td>0</td>\n",
       "      <td>0.0</td>\n",
       "      <td>0</td>\n",
       "      <td>2.054118</td>\n",
       "      <td>1.812457</td>\n",
       "    </tr>\n",
       "    <tr>\n",
       "      <th>45</th>\n",
       "      <td>45</td>\n",
       "      <td>2.054118</td>\n",
       "      <td>False</td>\n",
       "      <td>1</td>\n",
       "      <td>False</td>\n",
       "      <td>-28.0</td>\n",
       "      <td>0</td>\n",
       "      <td>0.0</td>\n",
       "      <td>0</td>\n",
       "      <td>2.174949</td>\n",
       "      <td>1.933288</td>\n",
       "    </tr>\n",
       "    <tr>\n",
       "      <th>46</th>\n",
       "      <td>46</td>\n",
       "      <td>2.174949</td>\n",
       "      <td>False</td>\n",
       "      <td>1</td>\n",
       "      <td>False</td>\n",
       "      <td>-28.0</td>\n",
       "      <td>0</td>\n",
       "      <td>0.0</td>\n",
       "      <td>0</td>\n",
       "      <td>2.054118</td>\n",
       "      <td>2.054118</td>\n",
       "    </tr>\n",
       "    <tr>\n",
       "      <th>47</th>\n",
       "      <td>47</td>\n",
       "      <td>2.054118</td>\n",
       "      <td>False</td>\n",
       "      <td>-1</td>\n",
       "      <td>False</td>\n",
       "      <td>-27.0</td>\n",
       "      <td>0</td>\n",
       "      <td>0.0</td>\n",
       "      <td>0</td>\n",
       "      <td>1.933288</td>\n",
       "      <td>2.174949</td>\n",
       "    </tr>\n",
       "    <tr>\n",
       "      <th>48</th>\n",
       "      <td>48</td>\n",
       "      <td>1.933288</td>\n",
       "      <td>False</td>\n",
       "      <td>-1</td>\n",
       "      <td>False</td>\n",
       "      <td>-27.0</td>\n",
       "      <td>0</td>\n",
       "      <td>0.0</td>\n",
       "      <td>0</td>\n",
       "      <td>1.812457</td>\n",
       "      <td>2.054118</td>\n",
       "    </tr>\n",
       "    <tr>\n",
       "      <th>49</th>\n",
       "      <td>49</td>\n",
       "      <td>1.812457</td>\n",
       "      <td>False</td>\n",
       "      <td>-1</td>\n",
       "      <td>False</td>\n",
       "      <td>-27.0</td>\n",
       "      <td>0</td>\n",
       "      <td>0.0</td>\n",
       "      <td>0</td>\n",
       "      <td>1.691627</td>\n",
       "      <td>1.933288</td>\n",
       "    </tr>\n",
       "  </tbody>\n",
       "</table>\n",
       "</div>"
      ],
      "text/plain": [
       "     t     angle  eating  direction  smelling  run_num  flyid  \\\n",
       "43  43  1.812457   False          1     False    -28.0      0   \n",
       "44  44  1.933288   False          1     False    -28.0      0   \n",
       "45  45  2.054118   False          1     False    -28.0      0   \n",
       "46  46  2.174949   False          1     False    -28.0      0   \n",
       "47  47  2.054118   False         -1     False    -27.0      0   \n",
       "48  48  1.933288   False         -1     False    -27.0      0   \n",
       "49  49  1.812457   False         -1     False    -27.0      0   \n",
       "\n",
       "    last_food_coord  last_food_index  next_angle  prev_angle  \n",
       "43              0.0                0    1.933288    1.691627  \n",
       "44              0.0                0    2.054118    1.812457  \n",
       "45              0.0                0    2.174949    1.933288  \n",
       "46              0.0                0    2.054118    2.054118  \n",
       "47              0.0                0    1.933288    2.174949  \n",
       "48              0.0                0    1.812457    2.054118  \n",
       "49              0.0                0    1.691627    1.933288  "
      ]
     },
     "execution_count": 219,
     "metadata": {},
     "output_type": "execute_result"
    }
   ],
   "source": [
    "df.loc[43:49]"
   ]
  },
  {
   "cell_type": "code",
   "execution_count": 221,
   "metadata": {},
   "outputs": [
    {
     "name": "stderr",
     "output_type": "stream",
     "text": [
      "/home/anna/miniconda3/envs/flyvenv/lib/python3.7/site-packages/pandas/core/indexing.py:670: SettingWithCopyWarning: \n",
      "A value is trying to be set on a copy of a slice from a DataFrame\n",
      "\n",
      "See the caveats in the documentation: https://pandas.pydata.org/pandas-docs/stable/user_guide/indexing.html#returning-a-view-versus-a-copy\n",
      "  iloc._setitem_with_indexer(indexer, value)\n"
     ]
    }
   ],
   "source": [
    "df.prev_angle.iloc[0] = df.prev_angle.iloc[1]"
   ]
  },
  {
   "cell_type": "code",
   "execution_count": 222,
   "metadata": {},
   "outputs": [
    {
     "data": {
      "text/html": [
       "<div>\n",
       "<style scoped>\n",
       "    .dataframe tbody tr th:only-of-type {\n",
       "        vertical-align: middle;\n",
       "    }\n",
       "\n",
       "    .dataframe tbody tr th {\n",
       "        vertical-align: top;\n",
       "    }\n",
       "\n",
       "    .dataframe thead th {\n",
       "        text-align: right;\n",
       "    }\n",
       "</style>\n",
       "<table border=\"1\" class=\"dataframe\">\n",
       "  <thead>\n",
       "    <tr style=\"text-align: right;\">\n",
       "      <th></th>\n",
       "      <th>t</th>\n",
       "      <th>angle</th>\n",
       "      <th>eating</th>\n",
       "      <th>direction</th>\n",
       "      <th>smelling</th>\n",
       "      <th>run_num</th>\n",
       "      <th>flyid</th>\n",
       "      <th>last_food_coord</th>\n",
       "      <th>last_food_index</th>\n",
       "      <th>next_angle</th>\n",
       "      <th>prev_angle</th>\n",
       "    </tr>\n",
       "  </thead>\n",
       "  <tbody>\n",
       "    <tr>\n",
       "      <th>0</th>\n",
       "      <td>0</td>\n",
       "      <td>-0.966644</td>\n",
       "      <td>False</td>\n",
       "      <td>1</td>\n",
       "      <td>False</td>\n",
       "      <td>-28.0</td>\n",
       "      <td>0</td>\n",
       "      <td>0.0</td>\n",
       "      <td>0</td>\n",
       "      <td>-0.845813</td>\n",
       "      <td>-0.966644</td>\n",
       "    </tr>\n",
       "    <tr>\n",
       "      <th>1</th>\n",
       "      <td>1</td>\n",
       "      <td>-0.845813</td>\n",
       "      <td>False</td>\n",
       "      <td>1</td>\n",
       "      <td>False</td>\n",
       "      <td>-28.0</td>\n",
       "      <td>0</td>\n",
       "      <td>0.0</td>\n",
       "      <td>0</td>\n",
       "      <td>-0.724983</td>\n",
       "      <td>-0.966644</td>\n",
       "    </tr>\n",
       "    <tr>\n",
       "      <th>2</th>\n",
       "      <td>2</td>\n",
       "      <td>-0.724983</td>\n",
       "      <td>False</td>\n",
       "      <td>1</td>\n",
       "      <td>False</td>\n",
       "      <td>-28.0</td>\n",
       "      <td>0</td>\n",
       "      <td>0.0</td>\n",
       "      <td>0</td>\n",
       "      <td>-0.604152</td>\n",
       "      <td>-0.845813</td>\n",
       "    </tr>\n",
       "    <tr>\n",
       "      <th>3</th>\n",
       "      <td>3</td>\n",
       "      <td>-0.604152</td>\n",
       "      <td>False</td>\n",
       "      <td>1</td>\n",
       "      <td>False</td>\n",
       "      <td>-28.0</td>\n",
       "      <td>0</td>\n",
       "      <td>0.0</td>\n",
       "      <td>0</td>\n",
       "      <td>-0.483322</td>\n",
       "      <td>-0.724983</td>\n",
       "    </tr>\n",
       "    <tr>\n",
       "      <th>4</th>\n",
       "      <td>4</td>\n",
       "      <td>-0.483322</td>\n",
       "      <td>False</td>\n",
       "      <td>1</td>\n",
       "      <td>False</td>\n",
       "      <td>-28.0</td>\n",
       "      <td>0</td>\n",
       "      <td>0.0</td>\n",
       "      <td>0</td>\n",
       "      <td>-0.362491</td>\n",
       "      <td>-0.604152</td>\n",
       "    </tr>\n",
       "  </tbody>\n",
       "</table>\n",
       "</div>"
      ],
      "text/plain": [
       "   t     angle  eating  direction  smelling  run_num  flyid  last_food_coord  \\\n",
       "0  0 -0.966644   False          1     False    -28.0      0              0.0   \n",
       "1  1 -0.845813   False          1     False    -28.0      0              0.0   \n",
       "2  2 -0.724983   False          1     False    -28.0      0              0.0   \n",
       "3  3 -0.604152   False          1     False    -28.0      0              0.0   \n",
       "4  4 -0.483322   False          1     False    -28.0      0              0.0   \n",
       "\n",
       "   last_food_index  next_angle  prev_angle  \n",
       "0                0   -0.845813   -0.966644  \n",
       "1                0   -0.724983   -0.966644  \n",
       "2                0   -0.604152   -0.845813  \n",
       "3                0   -0.483322   -0.724983  \n",
       "4                0   -0.362491   -0.604152  "
      ]
     },
     "execution_count": 222,
     "metadata": {},
     "output_type": "execute_result"
    }
   ],
   "source": [
    "df.head()"
   ]
  },
  {
   "cell_type": "code",
   "execution_count": null,
   "metadata": {},
   "outputs": [],
   "source": []
  },
  {
   "cell_type": "code",
   "execution_count": 204,
   "metadata": {},
   "outputs": [],
   "source": [
    "run_info = df.groupby([\"flyid\",\"run_num\"]).aggregate({'angle':['first', 'last'], 'last_food_index':'first', 'direction':'first'}).reset_index()\n",
    "run_info.columns = [\"_\".join(x) for x in run_info.columns.ravel()]\n",
    "run_info['run_midpoint']=(run_info.angle_last + run_info.angle_first)/2"
   ]
  },
  {
   "cell_type": "code",
   "execution_count": 205,
   "metadata": {},
   "outputs": [
    {
     "data": {
      "text/html": [
       "<div>\n",
       "<style scoped>\n",
       "    .dataframe tbody tr th:only-of-type {\n",
       "        vertical-align: middle;\n",
       "    }\n",
       "\n",
       "    .dataframe tbody tr th {\n",
       "        vertical-align: top;\n",
       "    }\n",
       "\n",
       "    .dataframe thead th {\n",
       "        text-align: right;\n",
       "    }\n",
       "</style>\n",
       "<table border=\"1\" class=\"dataframe\">\n",
       "  <thead>\n",
       "    <tr style=\"text-align: right;\">\n",
       "      <th></th>\n",
       "      <th>flyid_</th>\n",
       "      <th>run_num_</th>\n",
       "      <th>angle_first</th>\n",
       "      <th>angle_last</th>\n",
       "      <th>last_food_index_first</th>\n",
       "      <th>direction_first</th>\n",
       "      <th>run_midpoint</th>\n",
       "    </tr>\n",
       "  </thead>\n",
       "  <tbody>\n",
       "    <tr>\n",
       "      <th>0</th>\n",
       "      <td>0</td>\n",
       "      <td>-28.0</td>\n",
       "      <td>-0.966644</td>\n",
       "      <td>2.174949e+00</td>\n",
       "      <td>0</td>\n",
       "      <td>1</td>\n",
       "      <td>0.604152</td>\n",
       "    </tr>\n",
       "    <tr>\n",
       "      <th>1</th>\n",
       "      <td>0</td>\n",
       "      <td>-27.0</td>\n",
       "      <td>2.054118</td>\n",
       "      <td>1.208305e-01</td>\n",
       "      <td>0</td>\n",
       "      <td>-1</td>\n",
       "      <td>1.087474</td>\n",
       "    </tr>\n",
       "    <tr>\n",
       "      <th>2</th>\n",
       "      <td>0</td>\n",
       "      <td>-26.0</td>\n",
       "      <td>0.241661</td>\n",
       "      <td>1.329135e+00</td>\n",
       "      <td>0</td>\n",
       "      <td>1</td>\n",
       "      <td>0.785398</td>\n",
       "    </tr>\n",
       "    <tr>\n",
       "      <th>3</th>\n",
       "      <td>0</td>\n",
       "      <td>-25.0</td>\n",
       "      <td>1.208305</td>\n",
       "      <td>-8.326673e-17</td>\n",
       "      <td>0</td>\n",
       "      <td>-1</td>\n",
       "      <td>0.604152</td>\n",
       "    </tr>\n",
       "    <tr>\n",
       "      <th>4</th>\n",
       "      <td>0</td>\n",
       "      <td>-24.0</td>\n",
       "      <td>0.120830</td>\n",
       "      <td>1.329135e+00</td>\n",
       "      <td>0</td>\n",
       "      <td>1</td>\n",
       "      <td>0.724983</td>\n",
       "    </tr>\n",
       "  </tbody>\n",
       "</table>\n",
       "</div>"
      ],
      "text/plain": [
       "   flyid_  run_num_  angle_first    angle_last  last_food_index_first  \\\n",
       "0       0     -28.0    -0.966644  2.174949e+00                      0   \n",
       "1       0     -27.0     2.054118  1.208305e-01                      0   \n",
       "2       0     -26.0     0.241661  1.329135e+00                      0   \n",
       "3       0     -25.0     1.208305 -8.326673e-17                      0   \n",
       "4       0     -24.0     0.120830  1.329135e+00                      0   \n",
       "\n",
       "   direction_first  run_midpoint  \n",
       "0                1      0.604152  \n",
       "1               -1      1.087474  \n",
       "2                1      0.785398  \n",
       "3               -1      0.604152  \n",
       "4                1      0.724983  "
      ]
     },
     "execution_count": 205,
     "metadata": {},
     "output_type": "execute_result"
    }
   ],
   "source": [
    "run_info.head()"
   ]
  },
  {
   "cell_type": "code",
   "execution_count": 206,
   "metadata": {},
   "outputs": [],
   "source": [
    "run_info.rename(columns={\"run_num_\": \"run_num\", \"flyid_\": \"flyid\",\n",
    "                         \"last_food_index_first\":\"last_food_index\",\n",
    "                        \"direction_first\":\"direction\"}, inplace=True)"
   ]
  },
  {
   "cell_type": "code",
   "execution_count": 223,
   "metadata": {},
   "outputs": [
    {
     "data": {
      "text/html": [
       "<div>\n",
       "<style scoped>\n",
       "    .dataframe tbody tr th:only-of-type {\n",
       "        vertical-align: middle;\n",
       "    }\n",
       "\n",
       "    .dataframe tbody tr th {\n",
       "        vertical-align: top;\n",
       "    }\n",
       "\n",
       "    .dataframe thead th {\n",
       "        text-align: right;\n",
       "    }\n",
       "</style>\n",
       "<table border=\"1\" class=\"dataframe\">\n",
       "  <thead>\n",
       "    <tr style=\"text-align: right;\">\n",
       "      <th></th>\n",
       "      <th>flyid</th>\n",
       "      <th>run_num</th>\n",
       "      <th>angle_first</th>\n",
       "      <th>angle_last</th>\n",
       "      <th>last_food_index</th>\n",
       "      <th>direction</th>\n",
       "      <th>run_midpoint</th>\n",
       "    </tr>\n",
       "  </thead>\n",
       "  <tbody>\n",
       "    <tr>\n",
       "      <th>0</th>\n",
       "      <td>0</td>\n",
       "      <td>-28.0</td>\n",
       "      <td>-0.966644</td>\n",
       "      <td>2.174949e+00</td>\n",
       "      <td>0</td>\n",
       "      <td>1</td>\n",
       "      <td>0.604152</td>\n",
       "    </tr>\n",
       "    <tr>\n",
       "      <th>1</th>\n",
       "      <td>0</td>\n",
       "      <td>-27.0</td>\n",
       "      <td>2.054118</td>\n",
       "      <td>1.208305e-01</td>\n",
       "      <td>0</td>\n",
       "      <td>-1</td>\n",
       "      <td>1.087474</td>\n",
       "    </tr>\n",
       "    <tr>\n",
       "      <th>2</th>\n",
       "      <td>0</td>\n",
       "      <td>-26.0</td>\n",
       "      <td>0.241661</td>\n",
       "      <td>1.329135e+00</td>\n",
       "      <td>0</td>\n",
       "      <td>1</td>\n",
       "      <td>0.785398</td>\n",
       "    </tr>\n",
       "    <tr>\n",
       "      <th>3</th>\n",
       "      <td>0</td>\n",
       "      <td>-25.0</td>\n",
       "      <td>1.208305</td>\n",
       "      <td>-8.326673e-17</td>\n",
       "      <td>0</td>\n",
       "      <td>-1</td>\n",
       "      <td>0.604152</td>\n",
       "    </tr>\n",
       "    <tr>\n",
       "      <th>4</th>\n",
       "      <td>0</td>\n",
       "      <td>-24.0</td>\n",
       "      <td>0.120830</td>\n",
       "      <td>1.329135e+00</td>\n",
       "      <td>0</td>\n",
       "      <td>1</td>\n",
       "      <td>0.724983</td>\n",
       "    </tr>\n",
       "  </tbody>\n",
       "</table>\n",
       "</div>"
      ],
      "text/plain": [
       "   flyid  run_num  angle_first    angle_last  last_food_index  direction  \\\n",
       "0      0    -28.0    -0.966644  2.174949e+00                0          1   \n",
       "1      0    -27.0     2.054118  1.208305e-01                0         -1   \n",
       "2      0    -26.0     0.241661  1.329135e+00                0          1   \n",
       "3      0    -25.0     1.208305 -8.326673e-17                0         -1   \n",
       "4      0    -24.0     0.120830  1.329135e+00                0          1   \n",
       "\n",
       "   run_midpoint  \n",
       "0      0.604152  \n",
       "1      1.087474  \n",
       "2      0.785398  \n",
       "3      0.604152  \n",
       "4      0.724983  "
      ]
     },
     "execution_count": 223,
     "metadata": {},
     "output_type": "execute_result"
    }
   ],
   "source": [
    "run_info.head()"
   ]
  },
  {
   "cell_type": "code",
   "execution_count": 224,
   "metadata": {},
   "outputs": [],
   "source": [
    "def angle_minuspitopi(angle):\n",
    "    return (angle + np.pi) % (2 * np.pi) - np.pi"
   ]
  },
  {
   "cell_type": "code",
   "execution_count": 225,
   "metadata": {},
   "outputs": [],
   "source": [
    "run_info['theta_midpoint'] = run_info.run_midpoint.apply(lambda angle: angle_minuspitopi(angle))"
   ]
  },
  {
   "cell_type": "code",
   "execution_count": 227,
   "metadata": {},
   "outputs": [
    {
     "data": {
      "image/png": "[encoded data removed]",
      "text/plain": [
       "<Figure size 432x288 with 1 Axes>"
      ]
     },
     "metadata": {
      "needs_background": "light"
     },
     "output_type": "display_data"
    }
   ],
   "source": [
    "h=plt.hist(run_info[run_info[\"run_num\"]<0].run_midpoint,density=True, bins=50)"
   ]
  },
  {
   "cell_type": "code",
   "execution_count": 228,
   "metadata": {},
   "outputs": [
    {
     "data": {
      "image/png": "[encoded data removed]",
      "text/plain": [
       "<Figure size 432x288 with 1 Axes>"
      ]
     },
     "metadata": {
      "needs_background": "light"
     },
     "output_type": "display_data"
    }
   ],
   "source": [
    "h=plt.hist(run_info[run_info[\"run_num\"]<0].theta_midpoint,density=True, bins=50)"
   ]
  },
  {
   "cell_type": "code",
   "execution_count": 231,
   "metadata": {},
   "outputs": [
    {
     "data": {
      "image/png": "[encoded data removed]",
      "text/plain": [
       "<Figure size 432x288 with 1 Axes>"
      ]
     },
     "metadata": {
      "needs_background": "light"
     },
     "output_type": "display_data"
    }
   ],
   "source": [
    "h=plt.hist((run_info[run_info[\"run_num\"]>=0].run_midpoint + np.pi) % (2*np.pi)-np.pi,density=True, bins=50)"
   ]
  },
  {
   "cell_type": "code",
   "execution_count": 230,
   "metadata": {},
   "outputs": [
    {
     "data": {
      "image/png": "[encoded data removed]",
      "text/plain": [
       "<Figure size 432x288 with 1 Axes>"
      ]
     },
     "metadata": {
      "needs_background": "light"
     },
     "output_type": "display_data"
    }
   ],
   "source": [
    "h=plt.hist(run_info[run_info[\"run_num\"]>=0].run_midpoint,density=True, bins=50)"
   ]
  },
  {
   "cell_type": "code",
   "execution_count": 174,
   "metadata": {},
   "outputs": [],
   "source": [
    "import seaborn as sns"
   ]
  },
  {
   "cell_type": "code",
   "execution_count": 175,
   "metadata": {},
   "outputs": [
    {
     "data": {
      "text/plain": [
       "Index(['flyid_', 'run_num_', 'angle_first', 'angle_last',\n",
       "       'last_food_index_first', 'run_midpoint'],\n",
       "      dtype='object')"
      ]
     },
     "execution_count": 175,
     "metadata": {},
     "output_type": "execute_result"
    }
   ],
   "source": [
    "run_info.columns\n"
   ]
  },
  {
   "cell_type": "code",
   "execution_count": 229,
   "metadata": {},
   "outputs": [],
   "source": [
    "post_runs = run_info[run_info['run_num']>=0]"
   ]
  },
  {
   "cell_type": "code",
   "execution_count": 233,
   "metadata": {},
   "outputs": [
    {
     "data": {
      "text/plain": [
       "<AxesSubplot:xlabel='run_midpoint', ylabel='Count'>"
      ]
     },
     "execution_count": 233,
     "metadata": {},
     "output_type": "execute_result"
    },
    {
     "data": {
      "image/png": "[encoded data removed]",
      "text/plain": [
       "<Figure size 1080x576 with 1 Axes>"
      ]
     },
     "metadata": {
      "needs_background": "light"
     },
     "output_type": "display_data"
    }
   ],
   "source": [
    "plt.figure(figsize=(15,8))\n",
    "sns.histplot(data=post_runs, x='run_midpoint', hue='last_food_index', element='step', fill=False)\n",
    "# plt.xlim(-np.pi, np.pi)"
   ]
  },
  {
   "cell_type": "code",
   "execution_count": 314,
   "metadata": {},
   "outputs": [
    {
     "data": {
      "text/plain": [
       "<AxesSubplot:xlabel='theta_midpoint', ylabel='Count'>"
      ]
     },
     "execution_count": 314,
     "metadata": {},
     "output_type": "execute_result"
    },
    {
     "data": {
      "image/png": "[encoded data removed]",
      "text/plain": [
       "<Figure size 1080x576 with 1 Axes>"
      ]
     },
     "metadata": {
      "needs_background": "light"
     },
     "output_type": "display_data"
    }
   ],
   "source": [
    "plt.figure(figsize=(15,8))\n",
    "sns.histplot(data=post_runs, x='theta_midpoint', hue='last_food_index', element='step', fill=False, bins=36)\n",
    "# plt.xlim(-np.pi, np.pi)"
   ]
  },
  {
   "cell_type": "code",
   "execution_count": 184,
   "metadata": {},
   "outputs": [
    {
     "data": {
      "image/png": "[encoded data removed]",
      "text/plain": [
       "<Figure size 432x288 with 1 Axes>"
      ]
     },
     "metadata": {
      "needs_background": "light"
     },
     "output_type": "display_data"
    }
   ],
   "source": [
    "ax = plt.subplot(111, polar=True)\n",
    "h=ax.hist(post_runs[post_runs.last_food_index_first==0].run_midpoint, bins=50)"
   ]
  },
  {
   "cell_type": "code",
   "execution_count": 186,
   "metadata": {},
   "outputs": [
    {
     "data": {
      "image/png": "[encoded data removed]",
      "text/plain": [
       "<Figure size 432x288 with 1 Axes>"
      ]
     },
     "metadata": {
      "needs_background": "light"
     },
     "output_type": "display_data"
    }
   ],
   "source": [
    "ax = plt.subplot(111, polar=True)\n",
    "h=ax.hist(post_runs[post_runs.last_food_index_first==1].run_midpoint, bins=100)"
   ]
  },
  {
   "cell_type": "code",
   "execution_count": 187,
   "metadata": {},
   "outputs": [
    {
     "data": {
      "image/png": "[encoded data removed]",
      "text/plain": [
       "<Figure size 432x288 with 1 Axes>"
      ]
     },
     "metadata": {
      "needs_background": "light"
     },
     "output_type": "display_data"
    }
   ],
   "source": [
    "ax = plt.subplot(111, polar=True)\n",
    "h=ax.hist(post_runs[post_runs.last_food_index_first==2].run_midpoint, bins=100)"
   ]
  },
  {
   "cell_type": "code",
   "execution_count": 192,
   "metadata": {},
   "outputs": [],
   "source": [
    "# run_info.rename(columns={\"run_num_\": \"run_num\", \"flyid_\": \"flyid\",\"last_food_index_first\":\"last_food_index\"}, inplace=True)"
   ]
  },
  {
   "cell_type": "code",
   "execution_count": 193,
   "metadata": {},
   "outputs": [
    {
     "data": {
      "text/html": [
       "<div>\n",
       "<style scoped>\n",
       "    .dataframe tbody tr th:only-of-type {\n",
       "        vertical-align: middle;\n",
       "    }\n",
       "\n",
       "    .dataframe tbody tr th {\n",
       "        vertical-align: top;\n",
       "    }\n",
       "\n",
       "    .dataframe thead th {\n",
       "        text-align: right;\n",
       "    }\n",
       "</style>\n",
       "<table border=\"1\" class=\"dataframe\">\n",
       "  <thead>\n",
       "    <tr style=\"text-align: right;\">\n",
       "      <th></th>\n",
       "      <th>flyid</th>\n",
       "      <th>run_num</th>\n",
       "      <th>angle_first</th>\n",
       "      <th>angle_last</th>\n",
       "      <th>last_food_index</th>\n",
       "      <th>run_midpoint</th>\n",
       "    </tr>\n",
       "  </thead>\n",
       "  <tbody>\n",
       "    <tr>\n",
       "      <th>0</th>\n",
       "      <td>0</td>\n",
       "      <td>-28.0</td>\n",
       "      <td>-0.966644</td>\n",
       "      <td>2.174949e+00</td>\n",
       "      <td>0</td>\n",
       "      <td>0.604152</td>\n",
       "    </tr>\n",
       "    <tr>\n",
       "      <th>1</th>\n",
       "      <td>0</td>\n",
       "      <td>-27.0</td>\n",
       "      <td>2.054118</td>\n",
       "      <td>1.208305e-01</td>\n",
       "      <td>0</td>\n",
       "      <td>1.087474</td>\n",
       "    </tr>\n",
       "    <tr>\n",
       "      <th>2</th>\n",
       "      <td>0</td>\n",
       "      <td>-26.0</td>\n",
       "      <td>0.241661</td>\n",
       "      <td>1.329135e+00</td>\n",
       "      <td>0</td>\n",
       "      <td>0.785398</td>\n",
       "    </tr>\n",
       "    <tr>\n",
       "      <th>3</th>\n",
       "      <td>0</td>\n",
       "      <td>-25.0</td>\n",
       "      <td>1.208305</td>\n",
       "      <td>-8.326673e-17</td>\n",
       "      <td>0</td>\n",
       "      <td>0.604152</td>\n",
       "    </tr>\n",
       "    <tr>\n",
       "      <th>4</th>\n",
       "      <td>0</td>\n",
       "      <td>-24.0</td>\n",
       "      <td>0.120830</td>\n",
       "      <td>1.329135e+00</td>\n",
       "      <td>0</td>\n",
       "      <td>0.724983</td>\n",
       "    </tr>\n",
       "  </tbody>\n",
       "</table>\n",
       "</div>"
      ],
      "text/plain": [
       "   flyid  run_num  angle_first    angle_last  last_food_index  run_midpoint\n",
       "0      0    -28.0    -0.966644  2.174949e+00                0      0.604152\n",
       "1      0    -27.0     2.054118  1.208305e-01                0      1.087474\n",
       "2      0    -26.0     0.241661  1.329135e+00                0      0.785398\n",
       "3      0    -25.0     1.208305 -8.326673e-17                0      0.604152\n",
       "4      0    -24.0     0.120830  1.329135e+00                0      0.724983"
      ]
     },
     "execution_count": 193,
     "metadata": {},
     "output_type": "execute_result"
    }
   ],
   "source": [
    "run_info.head()"
   ]
  },
  {
   "cell_type": "code",
   "execution_count": 200,
   "metadata": {},
   "outputs": [
    {
     "data": {
      "text/plain": [
       "Index(['t', 'angle', 'eating', 'direction', 'smelling', 'run_num', 'flyid',\n",
       "       'last_food_coord', 'last_food_index'],\n",
       "      dtype='object')"
      ]
     },
     "execution_count": 200,
     "metadata": {},
     "output_type": "execute_result"
    }
   ],
   "source": [
    "df.columns"
   ]
  },
  {
   "cell_type": "code",
   "execution_count": 203,
   "metadata": {},
   "outputs": [],
   "source": [
    "food_coords = df.last_food_coord.unique()"
   ]
  },
  {
   "cell_type": "code",
   "execution_count": 259,
   "metadata": {},
   "outputs": [],
   "source": [
    "def angle_in_range(angle, angle_from, angle_to):\n",
    "    afrom = angle_minuspitopi(angle_from)    \n",
    "    ato = angle_minuspitopi(angle_to)\n",
    "#     print(afrom, ato)\n",
    "    a = angle_minuspitopi(angle)\n",
    "    if ato >= afrom:\n",
    "#         print(\"ato>afrom\")\n",
    "        return (a < ato) and (a > afrom)\n",
    "    if ato < afrom:\n",
    "#         print(f\"ato<afrom; a={a}\")\n",
    "        a = angle_minuspitopi(a+np.pi)        \n",
    "#         print(a)\n",
    "#         print(\"a<afrom\", a<afrom)\n",
    "#         print(\"a>ato\", a>ato)\n",
    "        return (a<afrom) and (a > ato)\n",
    "\n",
    "        "
   ]
  },
  {
   "cell_type": "code",
   "execution_count": 372,
   "metadata": {},
   "outputs": [],
   "source": [
    "def angle_in_range2(angle, angle_from, angle_to):\n",
    "    if abs(angle_to - angle_from)>=2*np.pi:\n",
    "        return True\n",
    "    afrom = angle_minuspitopi(angle_from)    \n",
    "    ato = angle_minuspitopi(angle_to)    \n",
    "    a = angle_minuspitopi(angle)\n",
    "    reversing = ((ato-afrom)*(angle_to - angle_from) < 0)\n",
    "#     print(\"reversing\", reversing)\n",
    "    if not reversing:\n",
    "#         print(afrom, ato)\n",
    "#         print(a-ato, a-afrom)\n",
    "        return (a - ato) * (a - afrom) < 0\n",
    "    if reversing:\n",
    "#         print(a-ato, a-afrom)\n",
    "        a = angle_minuspitopi(a+np.pi)        \n",
    "#         print(a-ato, a-afrom)\n",
    "        return (a - ato) * (a - afrom) < 0\n"
   ]
  },
  {
   "cell_type": "code",
   "execution_count": 361,
   "metadata": {},
   "outputs": [
    {
     "data": {
      "text/plain": [
       "True"
      ]
     },
     "execution_count": 361,
     "metadata": {},
     "output_type": "execute_result"
    }
   ],
   "source": [
    "angle_in_range(0, -np.pi/4, np.pi/4)"
   ]
  },
  {
   "cell_type": "code",
   "execution_count": 362,
   "metadata": {},
   "outputs": [
    {
     "name": "stdout",
     "output_type": "stream",
     "text": [
      "reversing False\n",
      "-0.7853981633974483 0.7853981633974483\n",
      "-0.7853981633974483 0.7853981633974483\n"
     ]
    },
    {
     "data": {
      "text/plain": [
       "True"
      ]
     },
     "execution_count": 362,
     "metadata": {},
     "output_type": "execute_result"
    }
   ],
   "source": [
    "angle_in_range2(0, -np.pi/4, np.pi/4)"
   ]
  },
  {
   "cell_type": "code",
   "execution_count": 363,
   "metadata": {},
   "outputs": [
    {
     "data": {
      "text/plain": [
       "False"
      ]
     },
     "execution_count": 363,
     "metadata": {},
     "output_type": "execute_result"
    }
   ],
   "source": [
    "angle_in_range(0, np.pi/4, np.pi/2)"
   ]
  },
  {
   "cell_type": "code",
   "execution_count": 364,
   "metadata": {},
   "outputs": [
    {
     "data": {
      "text/plain": [
       "False"
      ]
     },
     "execution_count": 364,
     "metadata": {},
     "output_type": "execute_result"
    }
   ],
   "source": [
    "angle_in_range(0, np.pi/4, np.pi/2)"
   ]
  },
  {
   "cell_type": "code",
   "execution_count": 365,
   "metadata": {},
   "outputs": [
    {
     "data": {
      "text/plain": [
       "True"
      ]
     },
     "execution_count": 365,
     "metadata": {},
     "output_type": "execute_result"
    }
   ],
   "source": [
    "angle_in_range(np.pi, np.pi/4, np.pi+7*np.pi/8)"
   ]
  },
  {
   "cell_type": "code",
   "execution_count": 366,
   "metadata": {},
   "outputs": [
    {
     "name": "stdout",
     "output_type": "stream",
     "text": [
      "reversing True\n",
      "-2.7488935718910685 -3.9269908169872414\n",
      "0.3926990816987246 -0.7853981633974483\n"
     ]
    },
    {
     "data": {
      "text/plain": [
       "True"
      ]
     },
     "execution_count": 366,
     "metadata": {},
     "output_type": "execute_result"
    }
   ],
   "source": [
    "angle_in_range2(np.pi, np.pi/4, np.pi+7*np.pi/8)"
   ]
  },
  {
   "cell_type": "code",
   "execution_count": 367,
   "metadata": {},
   "outputs": [
    {
     "data": {
      "text/plain": [
       "False"
      ]
     },
     "execution_count": 367,
     "metadata": {},
     "output_type": "execute_result"
    }
   ],
   "source": [
    "angle_in_range(np.pi/4, -np.pi/4, 0)"
   ]
  },
  {
   "cell_type": "code",
   "execution_count": 370,
   "metadata": {},
   "outputs": [
    {
     "name": "stdout",
     "output_type": "stream",
     "text": [
      "reversing False\n",
      "0.7853981633974483 -0.7853981633974483\n",
      "0.7853981633974483 -0.7853981633974483\n"
     ]
    },
    {
     "data": {
      "text/plain": [
       "True"
      ]
     },
     "execution_count": 370,
     "metadata": {},
     "output_type": "execute_result"
    }
   ],
   "source": [
    "angle_in_range2(0, np.pi/4, -np.pi/4)"
   ]
  },
  {
   "cell_type": "code",
   "execution_count": 371,
   "metadata": {},
   "outputs": [
    {
     "data": {
      "text/plain": [
       "False"
      ]
     },
     "execution_count": 371,
     "metadata": {},
     "output_type": "execute_result"
    }
   ],
   "source": [
    "angle_in_range(0, np.pi/4, -np.pi/4)"
   ]
  },
  {
   "cell_type": "code",
   "execution_count": 369,
   "metadata": {},
   "outputs": [],
   "source": [
    "for ifood, food_coord in enumerate(food_coords):\n",
    "    col = f\"contains_{ifood}\"\n",
    "    run_info[col] = run_info.apply(lambda row: angle_in_range(food_coord, row.angle_first, row.angle_last), axis=1)"
   ]
  },
  {
   "cell_type": "code",
   "execution_count": 261,
   "metadata": {},
   "outputs": [
    {
     "data": {
      "text/html": [
       "<div>\n",
       "<style scoped>\n",
       "    .dataframe tbody tr th:only-of-type {\n",
       "        vertical-align: middle;\n",
       "    }\n",
       "\n",
       "    .dataframe tbody tr th {\n",
       "        vertical-align: top;\n",
       "    }\n",
       "\n",
       "    .dataframe thead th {\n",
       "        text-align: right;\n",
       "    }\n",
       "</style>\n",
       "<table border=\"1\" class=\"dataframe\">\n",
       "  <thead>\n",
       "    <tr style=\"text-align: right;\">\n",
       "      <th></th>\n",
       "      <th>flyid</th>\n",
       "      <th>run_num</th>\n",
       "      <th>angle_first</th>\n",
       "      <th>angle_last</th>\n",
       "      <th>last_food_index</th>\n",
       "      <th>direction</th>\n",
       "      <th>run_midpoint</th>\n",
       "      <th>theta_midpoint</th>\n",
       "      <th>contains_0</th>\n",
       "      <th>contains_1</th>\n",
       "      <th>contains_2</th>\n",
       "    </tr>\n",
       "  </thead>\n",
       "  <tbody>\n",
       "    <tr>\n",
       "      <th>0</th>\n",
       "      <td>0</td>\n",
       "      <td>-28.0</td>\n",
       "      <td>-0.966644</td>\n",
       "      <td>2.174949e+00</td>\n",
       "      <td>0</td>\n",
       "      <td>1</td>\n",
       "      <td>0.604152</td>\n",
       "      <td>0.604152</td>\n",
       "      <td>True</td>\n",
       "      <td>True</td>\n",
       "      <td>True</td>\n",
       "    </tr>\n",
       "    <tr>\n",
       "      <th>1</th>\n",
       "      <td>0</td>\n",
       "      <td>-27.0</td>\n",
       "      <td>2.054118</td>\n",
       "      <td>1.208305e-01</td>\n",
       "      <td>0</td>\n",
       "      <td>-1</td>\n",
       "      <td>1.087474</td>\n",
       "      <td>1.087474</td>\n",
       "      <td>False</td>\n",
       "      <td>False</td>\n",
       "      <td>False</td>\n",
       "    </tr>\n",
       "    <tr>\n",
       "      <th>2</th>\n",
       "      <td>0</td>\n",
       "      <td>-26.0</td>\n",
       "      <td>0.241661</td>\n",
       "      <td>1.329135e+00</td>\n",
       "      <td>0</td>\n",
       "      <td>1</td>\n",
       "      <td>0.785398</td>\n",
       "      <td>0.785398</td>\n",
       "      <td>False</td>\n",
       "      <td>True</td>\n",
       "      <td>False</td>\n",
       "    </tr>\n",
       "    <tr>\n",
       "      <th>3</th>\n",
       "      <td>0</td>\n",
       "      <td>-25.0</td>\n",
       "      <td>1.208305</td>\n",
       "      <td>-8.326673e-17</td>\n",
       "      <td>0</td>\n",
       "      <td>-1</td>\n",
       "      <td>0.604152</td>\n",
       "      <td>0.604152</td>\n",
       "      <td>False</td>\n",
       "      <td>False</td>\n",
       "      <td>False</td>\n",
       "    </tr>\n",
       "    <tr>\n",
       "      <th>4</th>\n",
       "      <td>0</td>\n",
       "      <td>-24.0</td>\n",
       "      <td>0.120830</td>\n",
       "      <td>1.329135e+00</td>\n",
       "      <td>0</td>\n",
       "      <td>1</td>\n",
       "      <td>0.724983</td>\n",
       "      <td>0.724983</td>\n",
       "      <td>False</td>\n",
       "      <td>True</td>\n",
       "      <td>False</td>\n",
       "    </tr>\n",
       "  </tbody>\n",
       "</table>\n",
       "</div>"
      ],
      "text/plain": [
       "   flyid  run_num  angle_first    angle_last  last_food_index  direction  \\\n",
       "0      0    -28.0    -0.966644  2.174949e+00                0          1   \n",
       "1      0    -27.0     2.054118  1.208305e-01                0         -1   \n",
       "2      0    -26.0     0.241661  1.329135e+00                0          1   \n",
       "3      0    -25.0     1.208305 -8.326673e-17                0         -1   \n",
       "4      0    -24.0     0.120830  1.329135e+00                0          1   \n",
       "\n",
       "   run_midpoint  theta_midpoint  contains_0  contains_1  contains_2  \n",
       "0      0.604152        0.604152        True        True        True  \n",
       "1      1.087474        1.087474       False       False       False  \n",
       "2      0.785398        0.785398       False        True       False  \n",
       "3      0.604152        0.604152       False       False       False  \n",
       "4      0.724983        0.724983       False        True       False  "
      ]
     },
     "execution_count": 261,
     "metadata": {},
     "output_type": "execute_result"
    }
   ],
   "source": [
    "run_info.head()"
   ]
  },
  {
   "cell_type": "code",
   "execution_count": 269,
   "metadata": {},
   "outputs": [],
   "source": [
    "run_info[\"contains_food\"] = run_info.contains_0.astype(int) + run_info.contains_1.astype(int) + run_info.contains_2.astype(int)"
   ]
  },
  {
   "cell_type": "code",
   "execution_count": 270,
   "metadata": {},
   "outputs": [
    {
     "data": {
      "text/plain": [
       "0    21555\n",
       "1     8418\n",
       "3     4372\n",
       "2     4302\n",
       "Name: contains_food, dtype: int64"
      ]
     },
     "execution_count": 270,
     "metadata": {},
     "output_type": "execute_result"
    }
   ],
   "source": [
    "run_info.contains_food.value_counts()"
   ]
  },
  {
   "cell_type": "code",
   "execution_count": 278,
   "metadata": {},
   "outputs": [],
   "source": [
    "ap_runs = run_info[run_info.run_num<0]"
   ]
  },
  {
   "cell_type": "code",
   "execution_count": 272,
   "metadata": {},
   "outputs": [
    {
     "data": {
      "text/plain": [
       "(23691, 12)"
      ]
     },
     "execution_count": 272,
     "metadata": {},
     "output_type": "execute_result"
    }
   ],
   "source": [
    "ap_runs.shape"
   ]
  },
  {
   "cell_type": "code",
   "execution_count": 325,
   "metadata": {},
   "outputs": [],
   "source": [
    "last_two_runs = ap_runs[ap_runs.run_num>=-3]"
   ]
  },
  {
   "cell_type": "code",
   "execution_count": 303,
   "metadata": {},
   "outputs": [
    {
     "data": {
      "text/html": [
       "<div>\n",
       "<style scoped>\n",
       "    .dataframe tbody tr th:only-of-type {\n",
       "        vertical-align: middle;\n",
       "    }\n",
       "\n",
       "    .dataframe tbody tr th {\n",
       "        vertical-align: top;\n",
       "    }\n",
       "\n",
       "    .dataframe thead th {\n",
       "        text-align: right;\n",
       "    }\n",
       "</style>\n",
       "<table border=\"1\" class=\"dataframe\">\n",
       "  <thead>\n",
       "    <tr style=\"text-align: right;\">\n",
       "      <th></th>\n",
       "      <th>flyid</th>\n",
       "      <th>run_num</th>\n",
       "      <th>angle_first</th>\n",
       "      <th>angle_last</th>\n",
       "      <th>last_food_index</th>\n",
       "      <th>direction</th>\n",
       "      <th>run_midpoint</th>\n",
       "      <th>theta_midpoint</th>\n",
       "      <th>contains_0</th>\n",
       "      <th>contains_1</th>\n",
       "      <th>contains_2</th>\n",
       "      <th>contains_food</th>\n",
       "    </tr>\n",
       "  </thead>\n",
       "  <tbody>\n",
       "    <tr>\n",
       "      <th>26</th>\n",
       "      <td>0</td>\n",
       "      <td>-2.0</td>\n",
       "      <td>-5.920694</td>\n",
       "      <td>-5.074880</td>\n",
       "      <td>0</td>\n",
       "      <td>1</td>\n",
       "      <td>-5.497787</td>\n",
       "      <td>0.785398</td>\n",
       "      <td>False</td>\n",
       "      <td>True</td>\n",
       "      <td>False</td>\n",
       "      <td>1</td>\n",
       "    </tr>\n",
       "    <tr>\n",
       "      <th>27</th>\n",
       "      <td>0</td>\n",
       "      <td>-1.0</td>\n",
       "      <td>-5.195711</td>\n",
       "      <td>-8.337304</td>\n",
       "      <td>0</td>\n",
       "      <td>-1</td>\n",
       "      <td>-6.766507</td>\n",
       "      <td>-0.483322</td>\n",
       "      <td>False</td>\n",
       "      <td>False</td>\n",
       "      <td>False</td>\n",
       "      <td>0</td>\n",
       "    </tr>\n",
       "    <tr>\n",
       "      <th>67</th>\n",
       "      <td>1</td>\n",
       "      <td>-2.0</td>\n",
       "      <td>0.362491</td>\n",
       "      <td>-2.295779</td>\n",
       "      <td>1</td>\n",
       "      <td>-1</td>\n",
       "      <td>-0.966644</td>\n",
       "      <td>-0.966644</td>\n",
       "      <td>False</td>\n",
       "      <td>False</td>\n",
       "      <td>False</td>\n",
       "      <td>0</td>\n",
       "    </tr>\n",
       "    <tr>\n",
       "      <th>68</th>\n",
       "      <td>1</td>\n",
       "      <td>-1.0</td>\n",
       "      <td>-2.174949</td>\n",
       "      <td>1.329135</td>\n",
       "      <td>1</td>\n",
       "      <td>1</td>\n",
       "      <td>-0.422907</td>\n",
       "      <td>-0.422907</td>\n",
       "      <td>True</td>\n",
       "      <td>True</td>\n",
       "      <td>True</td>\n",
       "      <td>3</td>\n",
       "    </tr>\n",
       "    <tr>\n",
       "      <th>112</th>\n",
       "      <td>2</td>\n",
       "      <td>-2.0</td>\n",
       "      <td>-0.845813</td>\n",
       "      <td>0.362491</td>\n",
       "      <td>2</td>\n",
       "      <td>1</td>\n",
       "      <td>-0.241661</td>\n",
       "      <td>-0.241661</td>\n",
       "      <td>True</td>\n",
       "      <td>False</td>\n",
       "      <td>True</td>\n",
       "      <td>2</td>\n",
       "    </tr>\n",
       "    <tr>\n",
       "      <th>113</th>\n",
       "      <td>2</td>\n",
       "      <td>-1.0</td>\n",
       "      <td>0.241661</td>\n",
       "      <td>-0.724983</td>\n",
       "      <td>2</td>\n",
       "      <td>-1</td>\n",
       "      <td>-0.241661</td>\n",
       "      <td>-0.241661</td>\n",
       "      <td>False</td>\n",
       "      <td>False</td>\n",
       "      <td>False</td>\n",
       "      <td>0</td>\n",
       "    </tr>\n",
       "    <tr>\n",
       "      <th>157</th>\n",
       "      <td>10</td>\n",
       "      <td>-2.0</td>\n",
       "      <td>-6.162355</td>\n",
       "      <td>-5.074880</td>\n",
       "      <td>0</td>\n",
       "      <td>1</td>\n",
       "      <td>-5.618618</td>\n",
       "      <td>0.664568</td>\n",
       "      <td>False</td>\n",
       "      <td>True</td>\n",
       "      <td>False</td>\n",
       "      <td>1</td>\n",
       "    </tr>\n",
       "    <tr>\n",
       "      <th>158</th>\n",
       "      <td>10</td>\n",
       "      <td>-1.0</td>\n",
       "      <td>-5.195711</td>\n",
       "      <td>-6.645677</td>\n",
       "      <td>0</td>\n",
       "      <td>-1</td>\n",
       "      <td>-5.920694</td>\n",
       "      <td>0.362491</td>\n",
       "      <td>False</td>\n",
       "      <td>False</td>\n",
       "      <td>False</td>\n",
       "      <td>0</td>\n",
       "    </tr>\n",
       "    <tr>\n",
       "      <th>200</th>\n",
       "      <td>11</td>\n",
       "      <td>-2.0</td>\n",
       "      <td>6.041524</td>\n",
       "      <td>6.283185</td>\n",
       "      <td>1</td>\n",
       "      <td>1</td>\n",
       "      <td>6.162355</td>\n",
       "      <td>-0.120830</td>\n",
       "      <td>True</td>\n",
       "      <td>False</td>\n",
       "      <td>False</td>\n",
       "      <td>1</td>\n",
       "    </tr>\n",
       "    <tr>\n",
       "      <th>201</th>\n",
       "      <td>11</td>\n",
       "      <td>-1.0</td>\n",
       "      <td>6.162355</td>\n",
       "      <td>0.241661</td>\n",
       "      <td>1</td>\n",
       "      <td>-1</td>\n",
       "      <td>3.202008</td>\n",
       "      <td>-3.081177</td>\n",
       "      <td>True</td>\n",
       "      <td>False</td>\n",
       "      <td>False</td>\n",
       "      <td>1</td>\n",
       "    </tr>\n",
       "  </tbody>\n",
       "</table>\n",
       "</div>"
      ],
      "text/plain": [
       "     flyid  run_num  angle_first  angle_last  last_food_index  direction  \\\n",
       "26       0     -2.0    -5.920694   -5.074880                0          1   \n",
       "27       0     -1.0    -5.195711   -8.337304                0         -1   \n",
       "67       1     -2.0     0.362491   -2.295779                1         -1   \n",
       "68       1     -1.0    -2.174949    1.329135                1          1   \n",
       "112      2     -2.0    -0.845813    0.362491                2          1   \n",
       "113      2     -1.0     0.241661   -0.724983                2         -1   \n",
       "157     10     -2.0    -6.162355   -5.074880                0          1   \n",
       "158     10     -1.0    -5.195711   -6.645677                0         -1   \n",
       "200     11     -2.0     6.041524    6.283185                1          1   \n",
       "201     11     -1.0     6.162355    0.241661                1         -1   \n",
       "\n",
       "     run_midpoint  theta_midpoint  contains_0  contains_1  contains_2  \\\n",
       "26      -5.497787        0.785398       False        True       False   \n",
       "27      -6.766507       -0.483322       False       False       False   \n",
       "67      -0.966644       -0.966644       False       False       False   \n",
       "68      -0.422907       -0.422907        True        True        True   \n",
       "112     -0.241661       -0.241661        True       False        True   \n",
       "113     -0.241661       -0.241661       False       False       False   \n",
       "157     -5.618618        0.664568       False        True       False   \n",
       "158     -5.920694        0.362491       False       False       False   \n",
       "200      6.162355       -0.120830        True       False       False   \n",
       "201      3.202008       -3.081177        True       False       False   \n",
       "\n",
       "     contains_food  \n",
       "26               1  \n",
       "27               0  \n",
       "67               0  \n",
       "68               3  \n",
       "112              2  \n",
       "113              0  \n",
       "157              1  \n",
       "158              0  \n",
       "200              1  \n",
       "201              1  "
      ]
     },
     "execution_count": 303,
     "metadata": {},
     "output_type": "execute_result"
    }
   ],
   "source": [
    "last_two_runs.head(10)"
   ]
  },
  {
   "cell_type": "code",
   "execution_count": 304,
   "metadata": {},
   "outputs": [
    {
     "data": {
      "text/plain": [
       "run_num  contains_food\n",
       "-2.0     0                493\n",
       "         1                216\n",
       "         2                114\n",
       "         3                 77\n",
       "-1.0     0                471\n",
       "         3                214\n",
       "         2                134\n",
       "         1                 81\n",
       "Name: contains_food, dtype: int64"
      ]
     },
     "execution_count": 304,
     "metadata": {},
     "output_type": "execute_result"
    }
   ],
   "source": [
    "last_two_runs.groupby(\"run_num\").contains_food.value_counts()"
   ]
  },
  {
   "cell_type": "code",
   "execution_count": 315,
   "metadata": {},
   "outputs": [],
   "source": [
    "good_ones3 = ap_runs[(ap_runs.run_num==-3) & (ap_runs.contains_food==3)]"
   ]
  },
  {
   "cell_type": "code",
   "execution_count": 317,
   "metadata": {},
   "outputs": [],
   "source": [
    "flies3=good_ones3.flyid.unique()"
   ]
  },
  {
   "cell_type": "code",
   "execution_count": 320,
   "metadata": {},
   "outputs": [
    {
     "data": {
      "text/plain": [
       "array([  51,   61,  120,  121,  131,  390,  492,  540,  562,  581,  792,\n",
       "        860, 1020, 1031, 1061, 1112, 1400, 1422, 1461, 1491, 1621, 1641,\n",
       "       1651, 1671, 1672, 1930, 1961, 2011, 2041, 2160, 2371, 2392, 2500,\n",
       "       2660, 2752, 2840])"
      ]
     },
     "execution_count": 320,
     "metadata": {},
     "output_type": "execute_result"
    }
   ],
   "source": [
    "flies3"
   ]
  },
  {
   "cell_type": "code",
   "execution_count": 318,
   "metadata": {},
   "outputs": [],
   "source": [
    "flies2=good_ones.flyid.unique()"
   ]
  },
  {
   "cell_type": "code",
   "execution_count": 323,
   "metadata": {},
   "outputs": [
    {
     "data": {
      "text/plain": [
       "{22}"
      ]
     },
     "execution_count": 323,
     "metadata": {},
     "output_type": "execute_result"
    }
   ],
   "source": [
    "set(flies2).intersection({1,22,345})"
   ]
  },
  {
   "cell_type": "code",
   "execution_count": 319,
   "metadata": {},
   "outputs": [
    {
     "data": {
      "text/plain": [
       "set()"
      ]
     },
     "execution_count": 319,
     "metadata": {},
     "output_type": "execute_result"
    }
   ],
   "source": [
    "set(flies3).intersection(set(flies2))"
   ]
  },
  {
   "cell_type": "code",
   "execution_count": 293,
   "metadata": {},
   "outputs": [],
   "source": [
    "good_ones = ap_runs[(ap_runs.run_num==-2) & (ap_runs.contains_food==3)]"
   ]
  },
  {
   "cell_type": "code",
   "execution_count": 294,
   "metadata": {},
   "outputs": [
    {
     "data": {
      "text/html": [
       "<div>\n",
       "<style scoped>\n",
       "    .dataframe tbody tr th:only-of-type {\n",
       "        vertical-align: middle;\n",
       "    }\n",
       "\n",
       "    .dataframe tbody tr th {\n",
       "        vertical-align: top;\n",
       "    }\n",
       "\n",
       "    .dataframe thead th {\n",
       "        text-align: right;\n",
       "    }\n",
       "</style>\n",
       "<table border=\"1\" class=\"dataframe\">\n",
       "  <thead>\n",
       "    <tr style=\"text-align: right;\">\n",
       "      <th></th>\n",
       "      <th>flyid</th>\n",
       "      <th>run_num</th>\n",
       "      <th>angle_first</th>\n",
       "      <th>angle_last</th>\n",
       "      <th>last_food_index</th>\n",
       "      <th>direction</th>\n",
       "      <th>run_midpoint</th>\n",
       "      <th>theta_midpoint</th>\n",
       "      <th>contains_0</th>\n",
       "      <th>contains_1</th>\n",
       "      <th>contains_2</th>\n",
       "      <th>contains_food</th>\n",
       "    </tr>\n",
       "  </thead>\n",
       "  <tbody>\n",
       "    <tr>\n",
       "      <th>366</th>\n",
       "      <td>22</td>\n",
       "      <td>-2.0</td>\n",
       "      <td>-0.724983</td>\n",
       "      <td>1.570796</td>\n",
       "      <td>2</td>\n",
       "      <td>1</td>\n",
       "      <td>0.422907</td>\n",
       "      <td>0.422907</td>\n",
       "      <td>True</td>\n",
       "      <td>True</td>\n",
       "      <td>True</td>\n",
       "      <td>3</td>\n",
       "    </tr>\n",
       "    <tr>\n",
       "      <th>679</th>\n",
       "      <td>50</td>\n",
       "      <td>-2.0</td>\n",
       "      <td>-0.966644</td>\n",
       "      <td>1.812457</td>\n",
       "      <td>0</td>\n",
       "      <td>1</td>\n",
       "      <td>0.422907</td>\n",
       "      <td>0.422907</td>\n",
       "      <td>True</td>\n",
       "      <td>True</td>\n",
       "      <td>True</td>\n",
       "      <td>3</td>\n",
       "    </tr>\n",
       "    <tr>\n",
       "      <th>759</th>\n",
       "      <td>52</td>\n",
       "      <td>-2.0</td>\n",
       "      <td>-1.329135</td>\n",
       "      <td>1.449966</td>\n",
       "      <td>2</td>\n",
       "      <td>1</td>\n",
       "      <td>0.060415</td>\n",
       "      <td>0.060415</td>\n",
       "      <td>True</td>\n",
       "      <td>True</td>\n",
       "      <td>True</td>\n",
       "      <td>3</td>\n",
       "    </tr>\n",
       "    <tr>\n",
       "      <th>1060</th>\n",
       "      <td>80</td>\n",
       "      <td>-2.0</td>\n",
       "      <td>5.316541</td>\n",
       "      <td>7.128999</td>\n",
       "      <td>0</td>\n",
       "      <td>1</td>\n",
       "      <td>6.222770</td>\n",
       "      <td>-0.060415</td>\n",
       "      <td>True</td>\n",
       "      <td>True</td>\n",
       "      <td>True</td>\n",
       "      <td>3</td>\n",
       "    </tr>\n",
       "    <tr>\n",
       "      <th>1282</th>\n",
       "      <td>92</td>\n",
       "      <td>-2.0</td>\n",
       "      <td>-1.570796</td>\n",
       "      <td>1.449966</td>\n",
       "      <td>2</td>\n",
       "      <td>1</td>\n",
       "      <td>-0.060415</td>\n",
       "      <td>-0.060415</td>\n",
       "      <td>True</td>\n",
       "      <td>True</td>\n",
       "      <td>True</td>\n",
       "      <td>3</td>\n",
       "    </tr>\n",
       "    <tr>\n",
       "      <th>...</th>\n",
       "      <td>...</td>\n",
       "      <td>...</td>\n",
       "      <td>...</td>\n",
       "      <td>...</td>\n",
       "      <td>...</td>\n",
       "      <td>...</td>\n",
       "      <td>...</td>\n",
       "      <td>...</td>\n",
       "      <td>...</td>\n",
       "      <td>...</td>\n",
       "      <td>...</td>\n",
       "      <td>...</td>\n",
       "    </tr>\n",
       "    <tr>\n",
       "      <th>34389</th>\n",
       "      <td>2662</td>\n",
       "      <td>-2.0</td>\n",
       "      <td>-1.449966</td>\n",
       "      <td>1.208305</td>\n",
       "      <td>2</td>\n",
       "      <td>1</td>\n",
       "      <td>-0.120830</td>\n",
       "      <td>-0.120830</td>\n",
       "      <td>True</td>\n",
       "      <td>True</td>\n",
       "      <td>True</td>\n",
       "      <td>3</td>\n",
       "    </tr>\n",
       "    <tr>\n",
       "      <th>35048</th>\n",
       "      <td>2712</td>\n",
       "      <td>-2.0</td>\n",
       "      <td>-1.570796</td>\n",
       "      <td>2.295779</td>\n",
       "      <td>2</td>\n",
       "      <td>1</td>\n",
       "      <td>0.362491</td>\n",
       "      <td>0.362491</td>\n",
       "      <td>True</td>\n",
       "      <td>True</td>\n",
       "      <td>True</td>\n",
       "      <td>3</td>\n",
       "    </tr>\n",
       "    <tr>\n",
       "      <th>36448</th>\n",
       "      <td>2822</td>\n",
       "      <td>-2.0</td>\n",
       "      <td>5.316541</td>\n",
       "      <td>7.370660</td>\n",
       "      <td>2</td>\n",
       "      <td>1</td>\n",
       "      <td>6.343601</td>\n",
       "      <td>0.060415</td>\n",
       "      <td>True</td>\n",
       "      <td>True</td>\n",
       "      <td>True</td>\n",
       "      <td>3</td>\n",
       "    </tr>\n",
       "    <tr>\n",
       "      <th>36820</th>\n",
       "      <td>2852</td>\n",
       "      <td>-2.0</td>\n",
       "      <td>-0.966644</td>\n",
       "      <td>0.724983</td>\n",
       "      <td>2</td>\n",
       "      <td>1</td>\n",
       "      <td>-0.120830</td>\n",
       "      <td>-0.120830</td>\n",
       "      <td>True</td>\n",
       "      <td>True</td>\n",
       "      <td>True</td>\n",
       "      <td>3</td>\n",
       "    </tr>\n",
       "    <tr>\n",
       "      <th>38632</th>\n",
       "      <td>2992</td>\n",
       "      <td>-2.0</td>\n",
       "      <td>-1.570796</td>\n",
       "      <td>1.691627</td>\n",
       "      <td>2</td>\n",
       "      <td>1</td>\n",
       "      <td>0.060415</td>\n",
       "      <td>0.060415</td>\n",
       "      <td>True</td>\n",
       "      <td>True</td>\n",
       "      <td>True</td>\n",
       "      <td>3</td>\n",
       "    </tr>\n",
       "  </tbody>\n",
       "</table>\n",
       "<p>77 rows × 12 columns</p>\n",
       "</div>"
      ],
      "text/plain": [
       "       flyid  run_num  angle_first  angle_last  last_food_index  direction  \\\n",
       "366       22     -2.0    -0.724983    1.570796                2          1   \n",
       "679       50     -2.0    -0.966644    1.812457                0          1   \n",
       "759       52     -2.0    -1.329135    1.449966                2          1   \n",
       "1060      80     -2.0     5.316541    7.128999                0          1   \n",
       "1282      92     -2.0    -1.570796    1.449966                2          1   \n",
       "...      ...      ...          ...         ...              ...        ...   \n",
       "34389   2662     -2.0    -1.449966    1.208305                2          1   \n",
       "35048   2712     -2.0    -1.570796    2.295779                2          1   \n",
       "36448   2822     -2.0     5.316541    7.370660                2          1   \n",
       "36820   2852     -2.0    -0.966644    0.724983                2          1   \n",
       "38632   2992     -2.0    -1.570796    1.691627                2          1   \n",
       "\n",
       "       run_midpoint  theta_midpoint  contains_0  contains_1  contains_2  \\\n",
       "366        0.422907        0.422907        True        True        True   \n",
       "679        0.422907        0.422907        True        True        True   \n",
       "759        0.060415        0.060415        True        True        True   \n",
       "1060       6.222770       -0.060415        True        True        True   \n",
       "1282      -0.060415       -0.060415        True        True        True   \n",
       "...             ...             ...         ...         ...         ...   \n",
       "34389     -0.120830       -0.120830        True        True        True   \n",
       "35048      0.362491        0.362491        True        True        True   \n",
       "36448      6.343601        0.060415        True        True        True   \n",
       "36820     -0.120830       -0.120830        True        True        True   \n",
       "38632      0.060415        0.060415        True        True        True   \n",
       "\n",
       "       contains_food  \n",
       "366                3  \n",
       "679                3  \n",
       "759                3  \n",
       "1060               3  \n",
       "1282               3  \n",
       "...              ...  \n",
       "34389              3  \n",
       "35048              3  \n",
       "36448              3  \n",
       "36820              3  \n",
       "38632              3  \n",
       "\n",
       "[77 rows x 12 columns]"
      ]
     },
     "execution_count": 294,
     "metadata": {},
     "output_type": "execute_result"
    }
   ],
   "source": [
    "good_ones"
   ]
  },
  {
   "cell_type": "code",
   "execution_count": 295,
   "metadata": {},
   "outputs": [
    {
     "data": {
      "text/plain": [
       "2    38\n",
       "0    25\n",
       "1    14\n",
       "Name: last_food_index, dtype: int64"
      ]
     },
     "execution_count": 295,
     "metadata": {},
     "output_type": "execute_result"
    }
   ],
   "source": [
    "good_ones.last_food_index.value_counts()"
   ]
  },
  {
   "cell_type": "code",
   "execution_count": 296,
   "metadata": {},
   "outputs": [],
   "source": [
    "good_flies = good_ones.flyid"
   ]
  },
  {
   "cell_type": "code",
   "execution_count": 297,
   "metadata": {},
   "outputs": [
    {
     "data": {
      "text/plain": [
       "366        22\n",
       "679        50\n",
       "759        52\n",
       "1060       80\n",
       "1282       92\n",
       "         ... \n",
       "34389    2662\n",
       "35048    2712\n",
       "36448    2822\n",
       "36820    2852\n",
       "38632    2992\n",
       "Name: flyid, Length: 77, dtype: int64"
      ]
     },
     "execution_count": 297,
     "metadata": {},
     "output_type": "execute_result"
    }
   ],
   "source": [
    "good_flies"
   ]
  },
  {
   "cell_type": "code",
   "execution_count": 298,
   "metadata": {},
   "outputs": [],
   "source": [
    "example_flyids = good_ones.groupby(\"last_food_index\").flyid.first()"
   ]
  },
  {
   "cell_type": "code",
   "execution_count": 299,
   "metadata": {},
   "outputs": [
    {
     "data": {
      "text/plain": [
       "last_food_index\n",
       "0     50\n",
       "1    171\n",
       "2     22\n",
       "Name: flyid, dtype: int64"
      ]
     },
     "execution_count": 299,
     "metadata": {},
     "output_type": "execute_result"
    }
   ],
   "source": [
    "example_flyids"
   ]
  },
  {
   "cell_type": "code",
   "execution_count": 301,
   "metadata": {},
   "outputs": [
    {
     "data": {
      "image/png": "[encoded data removed]",
      "text/plain": [
       "<Figure size 1080x288 with 1 Axes>"
      ]
     },
     "metadata": {
      "needs_background": "light"
     },
     "output_type": "display_data"
    },
    {
     "data": {
      "image/png": "[encoded data removed]",
      "text/plain": [
       "<Figure size 1080x288 with 1 Axes>"
      ]
     },
     "metadata": {
      "needs_background": "light"
     },
     "output_type": "display_data"
    },
    {
     "data": {
      "image/png": "[encoded data removed]",
      "text/plain": [
       "<Figure size 1080x288 with 1 Axes>"
      ]
     },
     "metadata": {
      "needs_background": "light"
     },
     "output_type": "display_data"
    }
   ],
   "source": [
    "for fly in example_flyids:\n",
    "    data = df[df.flyid==fly]\n",
    "    plt.figure(figsize=(15,4))\n",
    "    plt.plot(data.t, data.angle, color='k')\n",
    "    plt.plot(data[data.eating].t, data[data.eating].angle, '.', color='red')\n",
    "    plt.plot(data[data.smelling].t,data[data.smelling].angle , '.', color='cyan')\n",
    "    plt.axhline(data.last_food_coord.iloc[0], ls='--')\n",
    "    plt.axhline(data.last_food_coord.iloc[0]+2*np.pi, ls='--')\n",
    "    plt.axhline(data.last_food_coord.iloc[0]-2*np.pi, ls='--')\n",
    "    plt.axvline(600)\n",
    "    plt.xlim(400,1000)    \n",
    "    plt.title(str(fly))"
   ]
  },
  {
   "cell_type": "code",
   "execution_count": 326,
   "metadata": {},
   "outputs": [
    {
     "data": {
      "text/html": [
       "<div>\n",
       "<style scoped>\n",
       "    .dataframe tbody tr th:only-of-type {\n",
       "        vertical-align: middle;\n",
       "    }\n",
       "\n",
       "    .dataframe tbody tr th {\n",
       "        vertical-align: top;\n",
       "    }\n",
       "\n",
       "    .dataframe thead th {\n",
       "        text-align: right;\n",
       "    }\n",
       "</style>\n",
       "<table border=\"1\" class=\"dataframe\">\n",
       "  <thead>\n",
       "    <tr style=\"text-align: right;\">\n",
       "      <th></th>\n",
       "      <th>flyid</th>\n",
       "      <th>run_num</th>\n",
       "      <th>angle_first</th>\n",
       "      <th>angle_last</th>\n",
       "      <th>last_food_index</th>\n",
       "      <th>direction</th>\n",
       "      <th>run_midpoint</th>\n",
       "      <th>theta_midpoint</th>\n",
       "      <th>contains_0</th>\n",
       "      <th>contains_1</th>\n",
       "      <th>contains_2</th>\n",
       "      <th>contains_food</th>\n",
       "    </tr>\n",
       "  </thead>\n",
       "  <tbody>\n",
       "    <tr>\n",
       "      <th>365</th>\n",
       "      <td>22</td>\n",
       "      <td>-3.0</td>\n",
       "      <td>1.087474</td>\n",
       "      <td>-0.845813</td>\n",
       "      <td>2</td>\n",
       "      <td>-1</td>\n",
       "      <td>0.120830</td>\n",
       "      <td>0.120830</td>\n",
       "      <td>False</td>\n",
       "      <td>False</td>\n",
       "      <td>False</td>\n",
       "      <td>0</td>\n",
       "    </tr>\n",
       "    <tr>\n",
       "      <th>366</th>\n",
       "      <td>22</td>\n",
       "      <td>-2.0</td>\n",
       "      <td>-0.724983</td>\n",
       "      <td>1.570796</td>\n",
       "      <td>2</td>\n",
       "      <td>1</td>\n",
       "      <td>0.422907</td>\n",
       "      <td>0.422907</td>\n",
       "      <td>True</td>\n",
       "      <td>True</td>\n",
       "      <td>True</td>\n",
       "      <td>3</td>\n",
       "    </tr>\n",
       "    <tr>\n",
       "      <th>367</th>\n",
       "      <td>22</td>\n",
       "      <td>-1.0</td>\n",
       "      <td>1.449966</td>\n",
       "      <td>-1.208305</td>\n",
       "      <td>2</td>\n",
       "      <td>-1</td>\n",
       "      <td>0.120830</td>\n",
       "      <td>0.120830</td>\n",
       "      <td>False</td>\n",
       "      <td>False</td>\n",
       "      <td>False</td>\n",
       "      <td>0</td>\n",
       "    </tr>\n",
       "  </tbody>\n",
       "</table>\n",
       "</div>"
      ],
      "text/plain": [
       "     flyid  run_num  angle_first  angle_last  last_food_index  direction  \\\n",
       "365     22     -3.0     1.087474   -0.845813                2         -1   \n",
       "366     22     -2.0    -0.724983    1.570796                2          1   \n",
       "367     22     -1.0     1.449966   -1.208305                2         -1   \n",
       "\n",
       "     run_midpoint  theta_midpoint  contains_0  contains_1  contains_2  \\\n",
       "365      0.120830        0.120830       False       False       False   \n",
       "366      0.422907        0.422907        True        True        True   \n",
       "367      0.120830        0.120830       False       False       False   \n",
       "\n",
       "     contains_food  \n",
       "365              0  \n",
       "366              3  \n",
       "367              0  "
      ]
     },
     "execution_count": 326,
     "metadata": {},
     "output_type": "execute_result"
    }
   ],
   "source": [
    "ap_runs[(ap_runs.flyid==22)&(ap_runs.run_num>=-3)]"
   ]
  },
  {
   "cell_type": "code",
   "execution_count": 327,
   "metadata": {},
   "outputs": [],
   "source": [
    "a1 = 1.087474\n",
    "a2 = -0.845813\n",
    "a=0\n"
   ]
  },
  {
   "cell_type": "code",
   "execution_count": 328,
   "metadata": {},
   "outputs": [],
   "source": [
    "angle_in_range?"
   ]
  },
  {
   "cell_type": "code",
   "execution_count": 329,
   "metadata": {},
   "outputs": [
    {
     "data": {
      "text/plain": [
       "False"
      ]
     },
     "execution_count": 329,
     "metadata": {},
     "output_type": "execute_result"
    }
   ],
   "source": [
    "angle_in_range(a, a1, a2)"
   ]
  },
  {
   "cell_type": "code",
   "execution_count": 311,
   "metadata": {},
   "outputs": [
    {
     "data": {
      "text/plain": [
       "<AxesSubplot:xlabel='theta_midpoint', ylabel='Density'>"
      ]
     },
     "execution_count": 311,
     "metadata": {},
     "output_type": "execute_result"
    },
    {
     "data": {
      "image/png": "[encoded data removed]",
      "text/plain": [
       "<Figure size 432x288 with 1 Axes>"
      ]
     },
     "metadata": {
      "needs_background": "light"
     },
     "output_type": "display_data"
    }
   ],
   "source": [
    "# plt.figure(figsize=(15,8))\n",
    "sns.histplot(data=post_runs[post_runs.flyid.isin(good_flies)], x='theta_midpoint', hue='last_food_index', \n",
    "             element='step', fill=False, stat='density', common_norm=False, bins=20)\n",
    "# plt.xlim(-np.pi, np.pi)"
   ]
  },
  {
   "cell_type": "code",
   "execution_count": null,
   "metadata": {},
   "outputs": [],
   "source": []
  }
 ],
 "metadata": {
  "kernelspec": {
   "display_name": "flyvenv",
   "language": "python",
   "name": "flyvenv"
  },
  "language_info": {
   "codemirror_mode": {
    "name": "ipython",
    "version": 3
   },
   "file_extension": ".py",
   "mimetype": "text/x-python",
   "name": "python",
   "nbconvert_exporter": "python",
   "pygments_lexer": "ipython3",
   "version": "3.7.8"
  }
 },
 "nbformat": 4,
 "nbformat_minor": 2
}
